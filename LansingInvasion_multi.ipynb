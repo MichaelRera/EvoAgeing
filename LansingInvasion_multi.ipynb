{
 "cells": [
  {
   "cell_type": "code",
   "execution_count": 1,
   "id": "c15e5e45-96db-4bd8-9ed7-acc2600302e0",
   "metadata": {},
   "outputs": [
    {
     "name": "stderr",
     "output_type": "stream",
     "text": [
      "Loading required package: iterators\n",
      "\n",
      "Loading required package: parallel\n",
      "\n",
      "── \u001b[1mAttaching packages\u001b[22m ─────────────────────────────────────────────── tidyverse 1.3.1 ──\n",
      "\n",
      "\u001b[32m✔\u001b[39m \u001b[34mggplot2\u001b[39m 3.3.6     \u001b[32m✔\u001b[39m \u001b[34mpurrr  \u001b[39m 0.3.4\n",
      "\u001b[32m✔\u001b[39m \u001b[34mtibble \u001b[39m 3.1.7     \u001b[32m✔\u001b[39m \u001b[34mdplyr  \u001b[39m 1.0.9\n",
      "\u001b[32m✔\u001b[39m \u001b[34mtidyr  \u001b[39m 1.2.0     \u001b[32m✔\u001b[39m \u001b[34mstringr\u001b[39m 1.4.0\n",
      "\u001b[32m✔\u001b[39m \u001b[34mreadr  \u001b[39m 2.1.2     \u001b[32m✔\u001b[39m \u001b[34mforcats\u001b[39m 0.5.1\n",
      "\n",
      "── \u001b[1mConflicts\u001b[22m ────────────────────────────────────────────────── tidyverse_conflicts() ──\n",
      "\u001b[31m✖\u001b[39m \u001b[34mpurrr\u001b[39m::\u001b[32maccumulate()\u001b[39m masks \u001b[34mforeach\u001b[39m::accumulate()\n",
      "\u001b[31m✖\u001b[39m \u001b[34mdplyr\u001b[39m::\u001b[32mfilter()\u001b[39m     masks \u001b[34mstats\u001b[39m::filter()\n",
      "\u001b[31m✖\u001b[39m \u001b[34mdplyr\u001b[39m::\u001b[32mlag()\u001b[39m        masks \u001b[34mstats\u001b[39m::lag()\n",
      "\u001b[31m✖\u001b[39m \u001b[34mpurrr\u001b[39m::\u001b[32mwhen()\u001b[39m       masks \u001b[34mforeach\u001b[39m::when()\n",
      "\n",
      "\n",
      "Attaching package: ‘data.table’\n",
      "\n",
      "\n",
      "The following objects are masked from ‘package:dplyr’:\n",
      "\n",
      "    between, first, last\n",
      "\n",
      "\n",
      "The following object is masked from ‘package:purrr’:\n",
      "\n",
      "    transpose\n",
      "\n",
      "\n",
      "\n",
      "Attaching package: ‘gridExtra’\n",
      "\n",
      "\n",
      "The following object is masked from ‘package:dplyr’:\n",
      "\n",
      "    combine\n",
      "\n",
      "\n",
      "\n",
      "Attaching package: ‘IBMPopSim’\n",
      "\n",
      "\n",
      "The following object is masked from ‘package:stats’:\n",
      "\n",
      "    stepfun\n",
      "\n",
      "\n"
     ]
    }
   ],
   "source": [
    "library(foreach)\n",
    "library(doParallel)\n",
    "library(tidyverse)\n",
    "library(data.table)\n",
    "library(gridExtra)\n",
    "library(ggridges)\n",
    "library(\"IBMPopSim\")\n",
    "library(\"ggplot2\")\n",
    "library(\"Rcpp\")\n",
    "library(dplyr)"
   ]
  },
  {
   "cell_type": "code",
   "execution_count": 2,
   "id": "3b735072-bc17-4ab7-8a60-9a61a0169357",
   "metadata": {},
   "outputs": [
    {
     "data": {
      "text/html": [
       "<style>\n",
       ".dl-inline {width: auto; margin:0; padding: 0}\n",
       ".dl-inline>dt, .dl-inline>dd {float: none; width: auto; display: inline-block}\n",
       ".dl-inline>dt::after {content: \":\\0020\"; padding-right: .5ex}\n",
       ".dl-inline>dt:not(:first-of-type) {padding-left: .5ex}\n",
       "</style><dl class=dl-inline><dt>Lansing</dt><dd>'bool'</dd><dt>xb</dt><dd>'double'</dd><dt>xd</dt><dd>'double'</dd><dt>lignee</dt><dd>'int'</dd></dl>\n"
      ],
      "text/latex": [
       "\\begin{description*}\n",
       "\\item[Lansing] 'bool'\n",
       "\\item[xb] 'double'\n",
       "\\item[xd] 'double'\n",
       "\\item[lignee] 'int'\n",
       "\\end{description*}\n"
      ],
      "text/markdown": [
       "Lansing\n",
       ":   'bool'xb\n",
       ":   'double'xd\n",
       ":   'double'lignee\n",
       ":   'int'\n",
       "\n"
      ],
      "text/plain": [
       " Lansing       xb       xd   lignee \n",
       "  \"bool\" \"double\" \"double\"    \"int\" "
      ]
     },
     "metadata": {},
     "output_type": "display_data"
    },
    {
     "data": {
      "text/html": [
       "<table class=\"dataframe\">\n",
       "<caption>A data.frame: 6 × 6</caption>\n",
       "<thead>\n",
       "\t<tr><th></th><th scope=col>birth</th><th scope=col>death</th><th scope=col>Lansing</th><th scope=col>xb</th><th scope=col>xd</th><th scope=col>lignee</th></tr>\n",
       "\t<tr><th></th><th scope=col>&lt;dbl&gt;</th><th scope=col>&lt;dbl&gt;</th><th scope=col>&lt;lgl&gt;</th><th scope=col>&lt;dbl&gt;</th><th scope=col>&lt;dbl&gt;</th><th scope=col>&lt;int&gt;</th></tr>\n",
       "</thead>\n",
       "<tbody>\n",
       "\t<tr><th scope=row>1</th><td>0</td><td>NA</td><td>FALSE</td><td>1.5</td><td>0.83</td><td>1</td></tr>\n",
       "\t<tr><th scope=row>2</th><td>0</td><td>NA</td><td>FALSE</td><td>1.5</td><td>0.83</td><td>2</td></tr>\n",
       "\t<tr><th scope=row>3</th><td>0</td><td>NA</td><td>FALSE</td><td>1.5</td><td>0.83</td><td>3</td></tr>\n",
       "\t<tr><th scope=row>4</th><td>0</td><td>NA</td><td>FALSE</td><td>1.5</td><td>0.83</td><td>4</td></tr>\n",
       "\t<tr><th scope=row>5</th><td>0</td><td>NA</td><td>FALSE</td><td>1.5</td><td>0.83</td><td>5</td></tr>\n",
       "\t<tr><th scope=row>6</th><td>0</td><td>NA</td><td>FALSE</td><td>1.5</td><td>0.83</td><td>6</td></tr>\n",
       "</tbody>\n",
       "</table>\n"
      ],
      "text/latex": [
       "A data.frame: 6 × 6\n",
       "\\begin{tabular}{r|llllll}\n",
       "  & birth & death & Lansing & xb & xd & lignee\\\\\n",
       "  & <dbl> & <dbl> & <lgl> & <dbl> & <dbl> & <int>\\\\\n",
       "\\hline\n",
       "\t1 & 0 & NA & FALSE & 1.5 & 0.83 & 1\\\\\n",
       "\t2 & 0 & NA & FALSE & 1.5 & 0.83 & 2\\\\\n",
       "\t3 & 0 & NA & FALSE & 1.5 & 0.83 & 3\\\\\n",
       "\t4 & 0 & NA & FALSE & 1.5 & 0.83 & 4\\\\\n",
       "\t5 & 0 & NA & FALSE & 1.5 & 0.83 & 5\\\\\n",
       "\t6 & 0 & NA & FALSE & 1.5 & 0.83 & 6\\\\\n",
       "\\end{tabular}\n"
      ],
      "text/markdown": [
       "\n",
       "A data.frame: 6 × 6\n",
       "\n",
       "| <!--/--> | birth &lt;dbl&gt; | death &lt;dbl&gt; | Lansing &lt;lgl&gt; | xb &lt;dbl&gt; | xd &lt;dbl&gt; | lignee &lt;int&gt; |\n",
       "|---|---|---|---|---|---|---|\n",
       "| 1 | 0 | NA | FALSE | 1.5 | 0.83 | 1 |\n",
       "| 2 | 0 | NA | FALSE | 1.5 | 0.83 | 2 |\n",
       "| 3 | 0 | NA | FALSE | 1.5 | 0.83 | 3 |\n",
       "| 4 | 0 | NA | FALSE | 1.5 | 0.83 | 4 |\n",
       "| 5 | 0 | NA | FALSE | 1.5 | 0.83 | 5 |\n",
       "| 6 | 0 | NA | FALSE | 1.5 | 0.83 | 6 |\n",
       "\n"
      ],
      "text/plain": [
       "  birth death Lansing xb  xd   lignee\n",
       "1 0     NA    FALSE   1.5 0.83 1     \n",
       "2 0     NA    FALSE   1.5 0.83 2     \n",
       "3 0     NA    FALSE   1.5 0.83 3     \n",
       "4 0     NA    FALSE   1.5 0.83 4     \n",
       "5 0     NA    FALSE   1.5 0.83 5     \n",
       "6 0     NA    FALSE   1.5 0.83 6     "
      ]
     },
     "metadata": {},
     "output_type": "display_data"
    },
    {
     "data": {
      "text/html": [
       "<table class=\"dataframe\">\n",
       "<caption>A data.frame: 6 × 6</caption>\n",
       "<thead>\n",
       "\t<tr><th></th><th scope=col>birth</th><th scope=col>death</th><th scope=col>Lansing</th><th scope=col>xb</th><th scope=col>xd</th><th scope=col>lignee</th></tr>\n",
       "\t<tr><th></th><th scope=col>&lt;dbl&gt;</th><th scope=col>&lt;dbl&gt;</th><th scope=col>&lt;lgl&gt;</th><th scope=col>&lt;dbl&gt;</th><th scope=col>&lt;dbl&gt;</th><th scope=col>&lt;int&gt;</th></tr>\n",
       "</thead>\n",
       "<tbody>\n",
       "\t<tr><th scope=row>96</th><td>0</td><td>NA</td><td>FALSE</td><td>1.5</td><td>0.83</td><td> 96</td></tr>\n",
       "\t<tr><th scope=row>97</th><td>0</td><td>NA</td><td>FALSE</td><td>1.5</td><td>0.83</td><td> 97</td></tr>\n",
       "\t<tr><th scope=row>98</th><td>0</td><td>NA</td><td>FALSE</td><td>1.5</td><td>0.83</td><td> 98</td></tr>\n",
       "\t<tr><th scope=row>99</th><td>0</td><td>NA</td><td>FALSE</td><td>1.5</td><td>0.83</td><td> 99</td></tr>\n",
       "\t<tr><th scope=row>100</th><td>0</td><td>NA</td><td>FALSE</td><td>1.5</td><td>0.83</td><td>100</td></tr>\n",
       "\t<tr><th scope=row>101</th><td>0</td><td>NA</td><td> TRUE</td><td>1.5</td><td>1.30</td><td>101</td></tr>\n",
       "</tbody>\n",
       "</table>\n"
      ],
      "text/latex": [
       "A data.frame: 6 × 6\n",
       "\\begin{tabular}{r|llllll}\n",
       "  & birth & death & Lansing & xb & xd & lignee\\\\\n",
       "  & <dbl> & <dbl> & <lgl> & <dbl> & <dbl> & <int>\\\\\n",
       "\\hline\n",
       "\t96 & 0 & NA & FALSE & 1.5 & 0.83 &  96\\\\\n",
       "\t97 & 0 & NA & FALSE & 1.5 & 0.83 &  97\\\\\n",
       "\t98 & 0 & NA & FALSE & 1.5 & 0.83 &  98\\\\\n",
       "\t99 & 0 & NA & FALSE & 1.5 & 0.83 &  99\\\\\n",
       "\t100 & 0 & NA & FALSE & 1.5 & 0.83 & 100\\\\\n",
       "\t101 & 0 & NA &  TRUE & 1.5 & 1.30 & 101\\\\\n",
       "\\end{tabular}\n"
      ],
      "text/markdown": [
       "\n",
       "A data.frame: 6 × 6\n",
       "\n",
       "| <!--/--> | birth &lt;dbl&gt; | death &lt;dbl&gt; | Lansing &lt;lgl&gt; | xb &lt;dbl&gt; | xd &lt;dbl&gt; | lignee &lt;int&gt; |\n",
       "|---|---|---|---|---|---|---|\n",
       "| 96 | 0 | NA | FALSE | 1.5 | 0.83 |  96 |\n",
       "| 97 | 0 | NA | FALSE | 1.5 | 0.83 |  97 |\n",
       "| 98 | 0 | NA | FALSE | 1.5 | 0.83 |  98 |\n",
       "| 99 | 0 | NA | FALSE | 1.5 | 0.83 |  99 |\n",
       "| 100 | 0 | NA | FALSE | 1.5 | 0.83 | 100 |\n",
       "| 101 | 0 | NA |  TRUE | 1.5 | 1.30 | 101 |\n",
       "\n"
      ],
      "text/plain": [
       "    birth death Lansing xb  xd   lignee\n",
       "96  0     NA    FALSE   1.5 0.83  96   \n",
       "97  0     NA    FALSE   1.5 0.83  97   \n",
       "98  0     NA    FALSE   1.5 0.83  98   \n",
       "99  0     NA    FALSE   1.5 0.83  99   \n",
       "100 0     NA    FALSE   1.5 0.83 100   \n",
       "101 0     NA     TRUE   1.5 1.30 101   "
      ]
     },
     "metadata": {},
     "output_type": "display_data"
    }
   ],
   "source": [
    "# Generate initial population\n",
    "# N number of individuals in the initial population\n",
    "# N_invad number of individuals invading\n",
    "def_pop_init<-function(N=100,N_invad=1){\n",
    "    pop_init <- data.frame(\n",
    "        \"birth\" = rep(0,N), \n",
    "        \"death\" = as.double(NA),\n",
    "        \"Lansing\" = rep(FALSE,N),\n",
    "        \"xb\"= 1.5, \n",
    "        \"xd\" =  0.83, \n",
    "        \"lignee\"=1:N)\n",
    "    pop_invader <- data.frame(\n",
    "        \"birth\" = rep(0,N_invad), \n",
    "        \"death\" = as.double(NA),\n",
    "        \"Lansing\" = rep(TRUE,N_invad),\n",
    "        \"xb\"= 1.5, \n",
    "        \"xd\" =  1.3, \n",
    "        \"lignee\"= (N+1):(N+N_invad))\n",
    "    pop_init <- rbind(pop_init, pop_invader)\n",
    "    return(pop_init)\n",
    "}\n",
    "pop_init<-def_pop_init()\n",
    "get_characteristics(pop_init)\n",
    "head(pop_init)\n",
    "tail(pop_init)"
   ]
  },
  {
   "cell_type": "code",
   "execution_count": 3,
   "id": "27f00721-2957-4817-b0d9-973396789633",
   "metadata": {},
   "outputs": [],
   "source": [
    "params_birth <- list(\"ib\"= 1, \"p\"=0.1 , \"var_mut\"=0.05)\n",
    "\n",
    "birth_event <- mk_event_individual( type = \"birth\",\n",
    "  intensity_code = ' if (age(I,t) < I.xb)\n",
    "                        result = ib; \n",
    "                    else \n",
    "                        result =0;',  # each individual  I can give birth at rate ib if its age is less than xb\n",
    "  kernel_code = 'if (CUnif() < p)\n",
    "                     newI.xb = max(0., CNorm(I.xb, var_mut)); \n",
    "                 else\n",
    "                     newI.xb = I.xb;\n",
    "                if (I.Lansing & (age(I,t)> I.xd) & (age(I,t)<I.xb))\n",
    "                     newI.xd =0;\n",
    "                 else{\n",
    "                    if (CUnif()<p)\n",
    "                        newI.xd =max(0., CNorm(I.xd, var_mut));\n",
    "                     else \n",
    "                        newI.xd =I.xd;}\n",
    "                 newI.Lansing =I.Lansing;\n",
    "                 newI.lignee =I.lignee;') \n",
    "\n",
    "## Death event \n",
    "### parameters\n",
    "params_death <- list(\"intens\"=1, \"compet\"= 0.0009)\n",
    "\n",
    "## Deaths due to interactions\n",
    "death_event1 <- mk_event_interaction(name='death1',\n",
    "  type = \"death\",\n",
    "  interaction_code = \"result = compet;\" \n",
    ")\n",
    "\n",
    "## Deaths due to aging \n",
    "death_event2 <- mk_event_individual(name='death2', type=\"death\",\n",
    "                  intensity_code = ' if (age(I,t)>I.xd) result= intens; \n",
    "                                     else result =0;')"
   ]
  },
  {
   "cell_type": "code",
   "execution_count": 4,
   "id": "b5ada042-b23a-488e-9c7a-22048e59047e",
   "metadata": {},
   "outputs": [
    {
     "name": "stdout",
     "output_type": "stream",
     "text": [
      "Events:\n",
      "#1: individual event of type birth\n",
      "#2: interaction event of type death\n",
      "#3: individual event of type death\n",
      "--------------------------------------- \n",
      "Individual description:\n",
      "names:  birth death Lansing xb xd lignee \n",
      "R types:  double double logical double double integer \n",
      "C types:  double double bool double double int\n",
      "--------------------------------------- \n",
      "R parameters available in C++ code:\n",
      "names:  ib p var_mut intens compet \n",
      "R types:  double double double double double \n",
      "C types:  double double double double double"
     ]
    }
   ],
   "source": [
    "# Model creation \n",
    "model <- mk_model(\n",
    "  characteristics = get_characteristics(pop_init),\n",
    "  events = list(birth_event, death_event1, death_event2),\n",
    "  parameters = c(params_birth, params_death)\n",
    ")\n",
    "summary(model)"
   ]
  },
  {
   "cell_type": "code",
   "execution_count": 5,
   "id": "a7a32e0c-ec00-40cc-9676-b9af72cebde9",
   "metadata": {},
   "outputs": [],
   "source": [
    "## Bounds for birth and death rates \n",
    "birth_intensity_max <- params_birth$ib\n",
    "interaction_fun_max <- params_death$compet\n",
    "death2_max <- params_death$intens"
   ]
  },
  {
   "cell_type": "code",
   "execution_count": 6,
   "id": "86ac5efa-7971-47d6-9040-a23345de6349",
   "metadata": {},
   "outputs": [],
   "source": [
    "T = 1500 # Simulation end time "
   ]
  },
  {
   "cell_type": "code",
   "execution_count": 7,
   "id": "41911fc1-196b-4481-bcd5-b16c05bbbab8",
   "metadata": {},
   "outputs": [],
   "source": [
    "pop_out_multi <- matrix(,ncol=7)\n",
    "colnames(pop_out_multi) <- c(\"birth\",\"death\",\"Lansing\",\"xb\",\"xd\",\"lignee\", \"n_pop\")\n",
    "pop_out_multi <- as.data.table(pop_out_multi)\n",
    "n_pop=0\n",
    "n_sims=10"
   ]
  },
  {
   "cell_type": "code",
   "execution_count": 8,
   "id": "f9819c39-6c21-48e2-9a48-c678bf375bac",
   "metadata": {},
   "outputs": [
    {
     "name": "stdout",
     "output_type": "stream",
     "text": [
      "Simulation on  [0, 1500] Simulation on  [0, 1500] Simulation on  [0, 1500] Simulation on  [0, 1500] Simulation on  [0, 1500] Simulation on  [0, 1500] Simulation on  [0, 1500] Simulation on  [0, 1500] Simulation on  [0, 1500] Simulation on  [0, 1500] "
     ]
    }
   ],
   "source": [
    "for (i in 1:n_sims){\n",
    "  sim_out <- popsim(model = model,\n",
    "                    population = pop_init,\n",
    "                    events_bounds = c('birth'=birth_intensity_max, 'death1'=interaction_fun_max,'death2'= death2_max),\n",
    "                    parameters = c(params_birth, params_death),\n",
    "                    time = T)\n",
    "  \n",
    "  pop_out_multi <- rbind(pop_out_multi ,sim_out$population %>% mutate(n_pop))\n",
    "  n_pop=n_pop+1\n",
    "}\n",
    "pop_out_multi<-pop_out_multi[-1,]"
   ]
  },
  {
   "cell_type": "code",
   "execution_count": 9,
   "id": "0879bbc3-cd56-4bcf-803a-ecb2628252ed",
   "metadata": {},
   "outputs": [
    {
     "data": {
      "text/html": [
       "<table class=\"dataframe\">\n",
       "<caption>A data.table: 6 × 7</caption>\n",
       "<thead>\n",
       "\t<tr><th scope=col>birth</th><th scope=col>death</th><th scope=col>Lansing</th><th scope=col>xb</th><th scope=col>xd</th><th scope=col>lignee</th><th scope=col>n_pop</th></tr>\n",
       "\t<tr><th scope=col>&lt;dbl&gt;</th><th scope=col>&lt;dbl&gt;</th><th scope=col>&lt;lgl&gt;</th><th scope=col>&lt;dbl&gt;</th><th scope=col>&lt;dbl&gt;</th><th scope=col>&lt;int&gt;</th><th scope=col>&lt;dbl&gt;</th></tr>\n",
       "</thead>\n",
       "<tbody>\n",
       "\t<tr><td>1495.509</td><td>NA</td><td>FALSE</td><td>3.955509</td><td>3.239135</td><td>23</td><td>0</td></tr>\n",
       "\t<tr><td>1495.789</td><td>NA</td><td>FALSE</td><td>3.708219</td><td>3.102945</td><td>23</td><td>0</td></tr>\n",
       "\t<tr><td>1495.994</td><td>NA</td><td>FALSE</td><td>3.210158</td><td>2.845956</td><td>23</td><td>0</td></tr>\n",
       "\t<tr><td>1496.044</td><td>NA</td><td>FALSE</td><td>4.230477</td><td>3.174517</td><td>23</td><td>0</td></tr>\n",
       "\t<tr><td>1496.071</td><td>NA</td><td>FALSE</td><td>3.745476</td><td>3.100997</td><td>23</td><td>0</td></tr>\n",
       "\t<tr><td>1496.465</td><td>NA</td><td>FALSE</td><td>3.210158</td><td>2.845956</td><td>23</td><td>0</td></tr>\n",
       "</tbody>\n",
       "</table>\n"
      ],
      "text/latex": [
       "A data.table: 6 × 7\n",
       "\\begin{tabular}{lllllll}\n",
       " birth & death & Lansing & xb & xd & lignee & n\\_pop\\\\\n",
       " <dbl> & <dbl> & <lgl> & <dbl> & <dbl> & <int> & <dbl>\\\\\n",
       "\\hline\n",
       "\t 1495.509 & NA & FALSE & 3.955509 & 3.239135 & 23 & 0\\\\\n",
       "\t 1495.789 & NA & FALSE & 3.708219 & 3.102945 & 23 & 0\\\\\n",
       "\t 1495.994 & NA & FALSE & 3.210158 & 2.845956 & 23 & 0\\\\\n",
       "\t 1496.044 & NA & FALSE & 4.230477 & 3.174517 & 23 & 0\\\\\n",
       "\t 1496.071 & NA & FALSE & 3.745476 & 3.100997 & 23 & 0\\\\\n",
       "\t 1496.465 & NA & FALSE & 3.210158 & 2.845956 & 23 & 0\\\\\n",
       "\\end{tabular}\n"
      ],
      "text/markdown": [
       "\n",
       "A data.table: 6 × 7\n",
       "\n",
       "| birth &lt;dbl&gt; | death &lt;dbl&gt; | Lansing &lt;lgl&gt; | xb &lt;dbl&gt; | xd &lt;dbl&gt; | lignee &lt;int&gt; | n_pop &lt;dbl&gt; |\n",
       "|---|---|---|---|---|---|---|\n",
       "| 1495.509 | NA | FALSE | 3.955509 | 3.239135 | 23 | 0 |\n",
       "| 1495.789 | NA | FALSE | 3.708219 | 3.102945 | 23 | 0 |\n",
       "| 1495.994 | NA | FALSE | 3.210158 | 2.845956 | 23 | 0 |\n",
       "| 1496.044 | NA | FALSE | 4.230477 | 3.174517 | 23 | 0 |\n",
       "| 1496.071 | NA | FALSE | 3.745476 | 3.100997 | 23 | 0 |\n",
       "| 1496.465 | NA | FALSE | 3.210158 | 2.845956 | 23 | 0 |\n",
       "\n"
      ],
      "text/plain": [
       "  birth    death Lansing xb       xd       lignee n_pop\n",
       "1 1495.509 NA    FALSE   3.955509 3.239135 23     0    \n",
       "2 1495.789 NA    FALSE   3.708219 3.102945 23     0    \n",
       "3 1495.994 NA    FALSE   3.210158 2.845956 23     0    \n",
       "4 1496.044 NA    FALSE   4.230477 3.174517 23     0    \n",
       "5 1496.071 NA    FALSE   3.745476 3.100997 23     0    \n",
       "6 1496.465 NA    FALSE   3.210158 2.845956 23     0    "
      ]
     },
     "metadata": {},
     "output_type": "display_data"
    },
    {
     "data": {
      "text/html": [
       "<table class=\"dataframe\">\n",
       "<caption>A data.table: 6 × 7</caption>\n",
       "<thead>\n",
       "\t<tr><th scope=col>birth</th><th scope=col>death</th><th scope=col>Lansing</th><th scope=col>xb</th><th scope=col>xd</th><th scope=col>lignee</th><th scope=col>n_pop</th></tr>\n",
       "\t<tr><th scope=col>&lt;dbl&gt;</th><th scope=col>&lt;dbl&gt;</th><th scope=col>&lt;lgl&gt;</th><th scope=col>&lt;dbl&gt;</th><th scope=col>&lt;dbl&gt;</th><th scope=col>&lt;int&gt;</th><th scope=col>&lt;dbl&gt;</th></tr>\n",
       "</thead>\n",
       "<tbody>\n",
       "\t<tr><td>1499.596</td><td>1499.994</td><td>FALSE</td><td>4.355313</td><td>2.954407</td><td>38</td><td>9</td></tr>\n",
       "\t<tr><td>1499.618</td><td>1499.999</td><td>FALSE</td><td>3.790678</td><td>3.057257</td><td>38</td><td>9</td></tr>\n",
       "\t<tr><td>1499.641</td><td>1499.989</td><td>FALSE</td><td>4.148089</td><td>3.409033</td><td>38</td><td>9</td></tr>\n",
       "\t<tr><td>1499.689</td><td>1499.986</td><td>FALSE</td><td>3.851196</td><td>3.244578</td><td>38</td><td>9</td></tr>\n",
       "\t<tr><td>1499.782</td><td>1500.000</td><td>FALSE</td><td>3.790678</td><td>3.101612</td><td>38</td><td>9</td></tr>\n",
       "\t<tr><td>1499.880</td><td>1499.996</td><td>FALSE</td><td>3.867852</td><td>3.223453</td><td>38</td><td>9</td></tr>\n",
       "</tbody>\n",
       "</table>\n"
      ],
      "text/latex": [
       "A data.table: 6 × 7\n",
       "\\begin{tabular}{lllllll}\n",
       " birth & death & Lansing & xb & xd & lignee & n\\_pop\\\\\n",
       " <dbl> & <dbl> & <lgl> & <dbl> & <dbl> & <int> & <dbl>\\\\\n",
       "\\hline\n",
       "\t 1499.596 & 1499.994 & FALSE & 4.355313 & 2.954407 & 38 & 9\\\\\n",
       "\t 1499.618 & 1499.999 & FALSE & 3.790678 & 3.057257 & 38 & 9\\\\\n",
       "\t 1499.641 & 1499.989 & FALSE & 4.148089 & 3.409033 & 38 & 9\\\\\n",
       "\t 1499.689 & 1499.986 & FALSE & 3.851196 & 3.244578 & 38 & 9\\\\\n",
       "\t 1499.782 & 1500.000 & FALSE & 3.790678 & 3.101612 & 38 & 9\\\\\n",
       "\t 1499.880 & 1499.996 & FALSE & 3.867852 & 3.223453 & 38 & 9\\\\\n",
       "\\end{tabular}\n"
      ],
      "text/markdown": [
       "\n",
       "A data.table: 6 × 7\n",
       "\n",
       "| birth &lt;dbl&gt; | death &lt;dbl&gt; | Lansing &lt;lgl&gt; | xb &lt;dbl&gt; | xd &lt;dbl&gt; | lignee &lt;int&gt; | n_pop &lt;dbl&gt; |\n",
       "|---|---|---|---|---|---|---|\n",
       "| 1499.596 | 1499.994 | FALSE | 4.355313 | 2.954407 | 38 | 9 |\n",
       "| 1499.618 | 1499.999 | FALSE | 3.790678 | 3.057257 | 38 | 9 |\n",
       "| 1499.641 | 1499.989 | FALSE | 4.148089 | 3.409033 | 38 | 9 |\n",
       "| 1499.689 | 1499.986 | FALSE | 3.851196 | 3.244578 | 38 | 9 |\n",
       "| 1499.782 | 1500.000 | FALSE | 3.790678 | 3.101612 | 38 | 9 |\n",
       "| 1499.880 | 1499.996 | FALSE | 3.867852 | 3.223453 | 38 | 9 |\n",
       "\n"
      ],
      "text/plain": [
       "  birth    death    Lansing xb       xd       lignee n_pop\n",
       "1 1499.596 1499.994 FALSE   4.355313 2.954407 38     9    \n",
       "2 1499.618 1499.999 FALSE   3.790678 3.057257 38     9    \n",
       "3 1499.641 1499.989 FALSE   4.148089 3.409033 38     9    \n",
       "4 1499.689 1499.986 FALSE   3.851196 3.244578 38     9    \n",
       "5 1499.782 1500.000 FALSE   3.790678 3.101612 38     9    \n",
       "6 1499.880 1499.996 FALSE   3.867852 3.223453 38     9    "
      ]
     },
     "metadata": {},
     "output_type": "display_data"
    },
    {
     "data": {
      "text/html": [
       "14407059"
      ],
      "text/latex": [
       "14407059"
      ],
      "text/markdown": [
       "14407059"
      ],
      "text/plain": [
       "[1] 14407059"
      ]
     },
     "metadata": {},
     "output_type": "display_data"
    }
   ],
   "source": [
    "head(pop_out_multi)\n",
    "tail(pop_out_multi)\n",
    "length(pop_out_multi$birth)"
   ]
  },
  {
   "cell_type": "code",
   "execution_count": 10,
   "id": "1c80a34e-4ff4-485d-a6fb-a019c76272c4",
   "metadata": {},
   "outputs": [
    {
     "data": {
      "image/png": "[encoded data removed]",
      "text/plain": [
       "plot without title"
      ]
     },
     "metadata": {
      "image/png": {
       "height": 420,
       "width": 420
      }
     },
     "output_type": "display_data"
    }
   ],
   "source": [
    "ggplot(pop_out_multi %>% filter(birth>1490), aes(x=birth, y=lignee*n_pop, color=Lansing))+\n",
    "    geom_point()"
   ]
  },
  {
   "cell_type": "code",
   "execution_count": null,
   "id": "cedad431-a116-4025-8bfb-c2676312e429",
   "metadata": {},
   "outputs": [],
   "source": [
    "test_Lansing <- pop_out_multi %>% filter(Lansing) %>% mutate(xb-xd); test_Lansing <- density(test_Lansing$`xb - xd`)$x[which.max(density(test_Lansing$`xb - xd`)$y)]\n",
    "test_nonLansing <- pop_out_multi %>% filter(!Lansing) %>% mutate(xb-xd); test_nonLansing <- density(test_nonLansing$`xb - xd`)$x[which.max(density(test_nonLansing$`xb - xd`)$y)]"
   ]
  },
  {
   "cell_type": "code",
   "execution_count": null,
   "id": "e16d9ca8-ec5c-4c44-9d01-05ef16cbdd87",
   "metadata": {},
   "outputs": [],
   "source": [
    "t0density <-  ggplot(pop_out_multi %>% filter(birth==0), aes(x=xb-xd, color=Lansing, fill=Lansing, height=..scaled.., alpha = 0.5)) + \n",
    "                geom_density() + \n",
    "                geom_vline(xintercept = 0, color = \"blue\", linetype=\"dashed\")  +\n",
    "                geom_vline(xintercept = log(3)/2, color = \"red\", linetype=\"dashed\") +\n",
    "                ylim(0,0.5) + \n",
    "                coord_flip() +\n",
    "                theme(legend.position=\"none\")\n",
    "\n",
    "soldensity <- ggplot(pop_out_multi %>% filter(birth>1499), aes(x=xb-xd, color=Lansing, fill=Lansing, height=..scaled.., alpha = 0.5)) + \n",
    "                geom_density() + \n",
    "                geom_vline(xintercept = 0, color = \"blue\", linetype=\"dashed\")  +\n",
    "                geom_vline(xintercept = log(3)/2, color = \"red\", linetype=\"dashed\") +\n",
    "                coord_flip() +\n",
    "                xlim(-10,10) +\n",
    "                theme(legend.position=\"none\")\n",
    "\n",
    "xbxd_evol <- ggplot(pop_out_multi , aes(color=as.logical(Lansing))) + \n",
    "                geom_segment(aes(x=birth, xend=death, y=xb-xd, yend=xb-xd, alpha =0.01) , na.rm=TRUE)+\n",
    "                xlab(\"Time\") +\n",
    "                ylab(\"xb-xd\") + \n",
    "                geom_hline(yintercept=log(3)/2, color = \"red\", linetype=\"dashed\") +\n",
    "                geom_hline(yintercept = 0, color = \"blue\", linetype=\"dashed\") +\n",
    "                theme(legend.position=\"none\")\n",
    "\n",
    "p = grid.arrange(t0density, xbxd_evol, soldensity, ncol=3, nrow = 1, widths=c(2,6,2))"
   ]
  },
  {
   "cell_type": "code",
   "execution_count": null,
   "id": "768c5f8f-cc09-4106-8457-4a480404080d",
   "metadata": {},
   "outputs": [],
   "source": [
    "ggplot(pop_out_mini_per_Lansing2, aes(y=Lansing_xd))+\n",
    "  geom_density_ridges2(aes(x=xb-xd, fill=paste(Lansing_xd, Lansing), alpha = 0.9), scale = 0.9)+  \n",
    "  geom_vline(xintercept=log(3)/2, color = \"red\", linetype = \"dashed\") +\n",
    "  geom_vline(xintercept = 0, color = \"blue\", linetype = \"dashed\") +\n",
    "  labs(y = \"(1 - Lansing effect magnitude)\", x = \"xb - xd\") + \n",
    "  scale_fill_cyclical(values = c(\"#f26d68\", \"#15d8ed\"), labels = c(\"Lansing\", \"non-Lansing\"))+\n",
    "  xlim(-5,5) + coord_flip() \n",
    "\n",
    "#plot lines"
   ]
  }
 ],
 "metadata": {
  "kernelspec": {
   "display_name": "R",
   "language": "R",
   "name": "ir"
  },
  "language_info": {
   "codemirror_mode": "r",
   "file_extension": ".r",
   "mimetype": "text/x-r-source",
   "name": "R",
   "pygments_lexer": "r",
   "version": "4.2.0"
  }
 },
 "nbformat": 4,
 "nbformat_minor": 5
}

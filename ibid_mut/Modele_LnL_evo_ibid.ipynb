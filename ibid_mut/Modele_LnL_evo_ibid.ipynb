{
 "cells": [
  {
   "cell_type": "code",
   "execution_count": 1,
   "metadata": {},
   "outputs": [
    {
     "name": "stderr",
     "output_type": "stream",
     "text": [
      "\n",
      "Attaching package: ‘IBMPopSim’\n",
      "\n",
      "\n",
      "The following object is masked from ‘package:stats’:\n",
      "\n",
      "    stepfun\n",
      "\n",
      "\n",
      "\n",
      "Attaching package: ‘dplyr’\n",
      "\n",
      "\n",
      "The following objects are masked from ‘package:stats’:\n",
      "\n",
      "    filter, lag\n",
      "\n",
      "\n",
      "The following objects are masked from ‘package:base’:\n",
      "\n",
      "    intersect, setdiff, setequal, union\n",
      "\n",
      "\n",
      "\n",
      "Attaching package: ‘gridExtra’\n",
      "\n",
      "\n",
      "The following object is masked from ‘package:dplyr’:\n",
      "\n",
      "    combine\n",
      "\n",
      "\n"
     ]
    }
   ],
   "source": [
    "library(\"IBMPopSim\")\n",
    "library(\"ggplot2\")\n",
    "library(\"Rcpp\")\n",
    "library(dplyr)\n",
    "library(gridExtra)\n",
    "library(ggExtra)"
   ]
  },
  {
   "cell_type": "code",
   "execution_count": 2,
   "metadata": {},
   "outputs": [],
   "source": [
    "# Generate initial population\n",
    "N <- 10000  # Number of individuals in the initial population"
   ]
  },
  {
   "cell_type": "code",
   "execution_count": 3,
   "metadata": {},
   "outputs": [
    {
     "data": {
      "text/html": [
       "<style>\n",
       ".dl-inline {width: auto; margin:0; padding: 0}\n",
       ".dl-inline>dt, .dl-inline>dd {float: none; width: auto; display: inline-block}\n",
       ".dl-inline>dt::after {content: \":\\0020\"; padding-right: .5ex}\n",
       ".dl-inline>dt:not(:first-of-type) {padding-left: .5ex}\n",
       "</style><dl class=dl-inline><dt>Lansing</dt><dd>'bool'</dd><dt>ib</dt><dd>'double'</dd><dt>i_d</dt><dd>'double'</dd><dt>xb</dt><dd>'double'</dd><dt>xd</dt><dd>'double'</dd><dt>lignee</dt><dd>'int'</dd></dl>\n"
      ],
      "text/latex": [
       "\\begin{description*}\n",
       "\\item[Lansing] 'bool'\n",
       "\\item[ib] 'double'\n",
       "\\item[i\\textbackslash{}\\_d] 'double'\n",
       "\\item[xb] 'double'\n",
       "\\item[xd] 'double'\n",
       "\\item[lignee] 'int'\n",
       "\\end{description*}\n"
      ],
      "text/markdown": [
       "Lansing\n",
       ":   'bool'ib\n",
       ":   'double'i_d\n",
       ":   'double'xb\n",
       ":   'double'xd\n",
       ":   'double'lignee\n",
       ":   'int'\n",
       "\n"
      ],
      "text/plain": [
       " Lansing       ib      i_d       xb       xd   lignee \n",
       "  \"bool\" \"double\" \"double\" \"double\" \"double\"    \"int\" "
      ]
     },
     "metadata": {},
     "output_type": "display_data"
    }
   ],
   "source": [
    "# xb - xd is distributed uniformly on -10 ,10\n",
    "xd <- runif(N,0,10)\n",
    "pop_init <- data.frame(\n",
    "  \"birth\" = rep(0,N), \n",
    "  \"death\" = as.double(NA),\n",
    "  \"Lansing\" = rep(c(FALSE,FALSE),N/2),\n",
    "    \"ib\"=1,\n",
    "    \"i_d\"=1,\n",
    "    \"xb\"= 10-xd, \n",
    "    \"xd\" =  xd, \n",
    "    \"lignee\"=1:N\n",
    ")\n",
    "get_characteristics(pop_init)\n"
   ]
  },
  {
   "cell_type": "code",
   "execution_count": 4,
   "metadata": {},
   "outputs": [
    {
     "data": {
      "text/html": [
       "<table class=\"dataframe\">\n",
       "<caption>A data.frame: 6 × 8</caption>\n",
       "<thead>\n",
       "\t<tr><th></th><th scope=col>birth</th><th scope=col>death</th><th scope=col>Lansing</th><th scope=col>ib</th><th scope=col>i_d</th><th scope=col>xb</th><th scope=col>xd</th><th scope=col>lignee</th></tr>\n",
       "\t<tr><th></th><th scope=col>&lt;dbl&gt;</th><th scope=col>&lt;dbl&gt;</th><th scope=col>&lt;lgl&gt;</th><th scope=col>&lt;dbl&gt;</th><th scope=col>&lt;dbl&gt;</th><th scope=col>&lt;dbl&gt;</th><th scope=col>&lt;dbl&gt;</th><th scope=col>&lt;int&gt;</th></tr>\n",
       "</thead>\n",
       "<tbody>\n",
       "\t<tr><th scope=row>1</th><td>0</td><td>NA</td><td>FALSE</td><td>1</td><td>1</td><td>1.2852614</td><td>8.714739</td><td>1</td></tr>\n",
       "\t<tr><th scope=row>2</th><td>0</td><td>NA</td><td>FALSE</td><td>1</td><td>1</td><td>8.0977990</td><td>1.902201</td><td>2</td></tr>\n",
       "\t<tr><th scope=row>3</th><td>0</td><td>NA</td><td>FALSE</td><td>1</td><td>1</td><td>5.5096089</td><td>4.490391</td><td>3</td></tr>\n",
       "\t<tr><th scope=row>4</th><td>0</td><td>NA</td><td>FALSE</td><td>1</td><td>1</td><td>0.1891877</td><td>9.810812</td><td>4</td></tr>\n",
       "\t<tr><th scope=row>5</th><td>0</td><td>NA</td><td>FALSE</td><td>1</td><td>1</td><td>5.8412244</td><td>4.158776</td><td>5</td></tr>\n",
       "\t<tr><th scope=row>6</th><td>0</td><td>NA</td><td>FALSE</td><td>1</td><td>1</td><td>0.2013931</td><td>9.798607</td><td>6</td></tr>\n",
       "</tbody>\n",
       "</table>\n"
      ],
      "text/latex": [
       "A data.frame: 6 × 8\n",
       "\\begin{tabular}{r|llllllll}\n",
       "  & birth & death & Lansing & ib & i\\_d & xb & xd & lignee\\\\\n",
       "  & <dbl> & <dbl> & <lgl> & <dbl> & <dbl> & <dbl> & <dbl> & <int>\\\\\n",
       "\\hline\n",
       "\t1 & 0 & NA & FALSE & 1 & 1 & 1.2852614 & 8.714739 & 1\\\\\n",
       "\t2 & 0 & NA & FALSE & 1 & 1 & 8.0977990 & 1.902201 & 2\\\\\n",
       "\t3 & 0 & NA & FALSE & 1 & 1 & 5.5096089 & 4.490391 & 3\\\\\n",
       "\t4 & 0 & NA & FALSE & 1 & 1 & 0.1891877 & 9.810812 & 4\\\\\n",
       "\t5 & 0 & NA & FALSE & 1 & 1 & 5.8412244 & 4.158776 & 5\\\\\n",
       "\t6 & 0 & NA & FALSE & 1 & 1 & 0.2013931 & 9.798607 & 6\\\\\n",
       "\\end{tabular}\n"
      ],
      "text/markdown": [
       "\n",
       "A data.frame: 6 × 8\n",
       "\n",
       "| <!--/--> | birth &lt;dbl&gt; | death &lt;dbl&gt; | Lansing &lt;lgl&gt; | ib &lt;dbl&gt; | i_d &lt;dbl&gt; | xb &lt;dbl&gt; | xd &lt;dbl&gt; | lignee &lt;int&gt; |\n",
       "|---|---|---|---|---|---|---|---|---|\n",
       "| 1 | 0 | NA | FALSE | 1 | 1 | 1.2852614 | 8.714739 | 1 |\n",
       "| 2 | 0 | NA | FALSE | 1 | 1 | 8.0977990 | 1.902201 | 2 |\n",
       "| 3 | 0 | NA | FALSE | 1 | 1 | 5.5096089 | 4.490391 | 3 |\n",
       "| 4 | 0 | NA | FALSE | 1 | 1 | 0.1891877 | 9.810812 | 4 |\n",
       "| 5 | 0 | NA | FALSE | 1 | 1 | 5.8412244 | 4.158776 | 5 |\n",
       "| 6 | 0 | NA | FALSE | 1 | 1 | 0.2013931 | 9.798607 | 6 |\n",
       "\n"
      ],
      "text/plain": [
       "  birth death Lansing ib i_d xb        xd       lignee\n",
       "1 0     NA    FALSE   1  1   1.2852614 8.714739 1     \n",
       "2 0     NA    FALSE   1  1   8.0977990 1.902201 2     \n",
       "3 0     NA    FALSE   1  1   5.5096089 4.490391 3     \n",
       "4 0     NA    FALSE   1  1   0.1891877 9.810812 4     \n",
       "5 0     NA    FALSE   1  1   5.8412244 4.158776 5     \n",
       "6 0     NA    FALSE   1  1   0.2013931 9.798607 6     "
      ]
     },
     "metadata": {},
     "output_type": "display_data"
    }
   ],
   "source": [
    "head(pop_init)\n",
    "#plot.ecdf(pop_init$xb-pop_init$xd)"
   ]
  },
  {
   "cell_type": "code",
   "execution_count": 5,
   "metadata": {},
   "outputs": [],
   "source": [
    "# Events and model creation\n",
    " # There are 2 possible events :\n",
    "\n",
    "# - Birth (with or without mutation)\n",
    "# - Death\n",
    "\n",
    "# Each event is characterized by its intensity and  kernel code, described below.\n",
    "\n",
    "## Birth event with individual intensity\n",
    "\n",
    "### Parameters\n",
    "\n"
   ]
  },
  {
   "cell_type": "code",
   "execution_count": 6,
   "metadata": {},
   "outputs": [],
   "source": [
    "params_birth <- list(\"p\"=0.1 , \"var_mut\"=0.05)"
   ]
  },
  {
   "cell_type": "code",
   "execution_count": 7,
   "metadata": {},
   "outputs": [],
   "source": [
    "birth_event <- mk_event_individual( type = \"birth\",\n",
    "  intensity_code = ' if (age(I,t) < I.xb)\n",
    "                        result = I.ib; \n",
    "                    else \n",
    "                        result =0;',  # each individual  I can give birth at rate ib if its age is less than xb\n",
    "  kernel_code = 'if (CUnif() < p){\n",
    "                     newI.xb = max(0., CNorm(I.xb, var_mut));\n",
    "                     newI.ib = max(0., CNorm(I.ib, var_mut));\n",
    "                     newI.i_d = max(0., CNorm(I.i_d, var_mut));}\n",
    "                 else{\n",
    "                     newI.xb = I.xb;\n",
    "                     newI.ib = I.ib;\n",
    "                     newI.i_d = I.i_d;}\n",
    "                if (I.Lansing & (age(I,t)> I.xd) & (age(I,t)<I.xb))\n",
    "                     newI.xd =0;\n",
    "                 else{\n",
    "                    if (CUnif()<p)\n",
    "                        newI.xd =max(0., CNorm(I.xd, var_mut));\n",
    "                     else \n",
    "                        newI.xd =I.xd;}\n",
    "                 newI.Lansing =I.Lansing;\n",
    "                 newI.lignee =I.lignee;') \n",
    "# An individual I can give birth to an individual newI. The kernel code defines characteristics of individual newI\n",
    "# Attention la manière dont est calculée le trait après mutation est un peu différente du code du Tristan"
   ]
  },
  {
   "cell_type": "code",
   "execution_count": 8,
   "metadata": {},
   "outputs": [],
   "source": [
    "## Death event \n",
    "### parameters\n",
    "params_death <- list(\"compet\"= 0.0009)"
   ]
  },
  {
   "cell_type": "code",
   "execution_count": 9,
   "metadata": {},
   "outputs": [],
   "source": [
    "## Deaths due to interactions\n",
    "death_event1 <- mk_event_interaction(name='death1',\n",
    "  type = \"death\",\n",
    "  interaction_code = \"result = compet;\" \n",
    ")"
   ]
  },
  {
   "cell_type": "code",
   "execution_count": 10,
   "metadata": {},
   "outputs": [],
   "source": [
    "## Deaths due to aging \n",
    "death_event2 <- mk_event_individual(name='death2', type=\"death\",\n",
    "                  intensity_code = ' if (age(I,t)>I.xd) result= I.i_d; \n",
    "                                     else result =0;')"
   ]
  },
  {
   "cell_type": "code",
   "execution_count": 11,
   "metadata": {},
   "outputs": [
    {
     "name": "stdout",
     "output_type": "stream",
     "text": [
      "Events:\n",
      "#1: individual event of type birth\n",
      "#2: interaction event of type death\n",
      "#3: individual event of type death\n",
      "--------------------------------------- \n",
      "Individual description:\n",
      "names:  birth death Lansing ib i_d xb xd lignee \n",
      "R types:  double double logical double double double double integer \n",
      "C types:  double double bool double double double double int\n",
      "--------------------------------------- \n",
      "R parameters available in C++ code:\n",
      "names:  p var_mut compet \n",
      "R types:  double double double \n",
      "C types:  double double double"
     ]
    }
   ],
   "source": [
    "# Model creation \n",
    "model <- mk_model(\n",
    "  characteristics = get_characteristics(pop_init),\n",
    "  events = list(birth_event, death_event1, death_event2),\n",
    "  parameters = c(params_birth, params_death)\n",
    "\n",
    ")\n",
    "summary(model)"
   ]
  },
  {
   "cell_type": "code",
   "execution_count": 12,
   "metadata": {},
   "outputs": [],
   "source": [
    "## Bounds for birth and death rates \n",
    "birth_intensity_max <- 10\n",
    "interaction_fun_max <- params_death$compet\n",
    "death2_max <- 10"
   ]
  },
  {
   "cell_type": "code",
   "execution_count": null,
   "metadata": {},
   "outputs": [],
   "source": [
    "T = 3000 # Simulation end time \n",
    "\n",
    "sim_out <- popsim(model = model,\n",
    "  population = pop_init,\n",
    "  events_bounds = c('birth'=birth_intensity_max, 'death1'=interaction_fun_max,'death2'= death2_max),\n",
    "  parameters = c(params_birth, params_death),\n",
    "  time = T)"
   ]
  },
  {
   "cell_type": "code",
   "execution_count": null,
   "metadata": {},
   "outputs": [],
   "source": [
    "# Simulation with different parameters\n",
    "\n",
    "#The model can be simulated with different parameters without being recompiled.\n"
   ]
  },
  {
   "cell_type": "code",
   "execution_count": null,
   "metadata": {},
   "outputs": [],
   "source": [
    "#sim_out$logs[\"duration_main_algorithm\"]\n",
    "#sim_out$logs"
   ]
  },
  {
   "cell_type": "code",
   "execution_count": null,
   "metadata": {},
   "outputs": [],
   "source": [
    "# Outputs"
   ]
  },
  {
   "cell_type": "code",
   "execution_count": null,
   "metadata": {},
   "outputs": [],
   "source": [
    "str(sim_out$population)"
   ]
  },
  {
   "cell_type": "code",
   "execution_count": null,
   "metadata": {},
   "outputs": [],
   "source": [
    "pop_out <- sim_out$population\n",
    "head(pop_out)\n",
    "tail(pop_out)"
   ]
  },
  {
   "cell_type": "code",
   "execution_count": null,
   "metadata": {},
   "outputs": [],
   "source": [
    "#options(repr.plot.width=15, repr.plot.height=15)\n",
    "xbxd_evol_for_publi <- ggplot(pop_out %>% sample_n(1000000), aes(color=as.logical(Lansing), alpha = 0.1)) + \n",
    "  geom_segment(aes(x=birth, xend=death, y=xb-xd, yend=xb-xd, alpha =0.1) , na.rm=TRUE)+\n",
    "  xlab(\"Time\") +\n",
    "  ylab(\"xb-xd\") + \n",
    "  geom_hline(yintercept=log(3)/2, color = \"red\", linetype=\"dashed\") +\n",
    "  geom_hline(yintercept = 0, color = \"blue\", linetype=\"dashed\") +\n",
    "  labs(x='time',y='xb - xd')\n",
    "\n",
    "xbxd_evol_for_publi"
   ]
  },
  {
   "cell_type": "code",
   "execution_count": null,
   "metadata": {},
   "outputs": [],
   "source": [
    "#options(repr.plot.width=15, repr.plot.height=15)\n",
    "ibid_evol_for_publi <- ggplot(pop_out %>% sample_n(10000), aes(x=birth)) + \n",
    "  geom_point(aes(y=ib, alpha = 0.1) , na.rm=TRUE, colour='green')+\n",
    "  geom_point(aes(y=i_d, alpha = 0.1) , na.rm=TRUE, colour='red')+\n",
    "  xlab(\"Time\") \n",
    "  #ylab(\"xb-xd\") + \n",
    "  #theme(legend.position=\"none\")+\n",
    "  #theme(axis.text=element_text(size=12),\n",
    "  #      axis.title=element_text(size=14,face=\"bold\"))\n",
    "\n",
    "ibid_evol_for_publi"
   ]
  },
  {
   "cell_type": "code",
   "execution_count": null,
   "metadata": {},
   "outputs": [],
   "source": [
    "#options(repr.plot.width=15, repr.plot.height=15)\n",
    "p1<-ggplot(pop_out %>% sample_n(10000)) + \n",
    "  geom_point(aes(x=xb,y=ib, alpha = 0.1, colour=birth))+ theme(legend.position = \"none\") \n",
    "p1<-ggMarginal(p1,type = \"histogram\", xparams = list(binwidth = 0.1))\n",
    "\n",
    "  \n",
    "p2<-ggplot(pop_out %>% sample_n(10000)) + \n",
    "  geom_point(aes(x=xd,y=i_d, alpha = 0.1, colour=birth))+ theme(legend.position = \"none\") \n",
    "p2<-ggMarginal(p2,type = \"histogram\", xparams = list(binwidth = 0.1))"
   ]
  },
  {
   "cell_type": "code",
   "execution_count": null,
   "metadata": {},
   "outputs": [],
   "source": [
    "grid.arrange( p1, p2, ncol=2)"
   ]
  },
  {
   "cell_type": "code",
   "execution_count": null,
   "metadata": {
    "tags": []
   },
   "outputs": [],
   "source": [
    "t0density <-  ggplot(pop_out %>% filter(birth==0), aes(x=xb-xd, color=Lansing, fill=Lansing, height=..scaled.., alpha = 0.1)) + \n",
    "                geom_density() + \n",
    "                geom_vline(xintercept = 0, color = \"blue\", linetype=\"dashed\")  +\n",
    "                geom_vline(xintercept = log(3)/2, color = \"red\", linetype=\"dashed\") +\n",
    "                ylim(0,0.15) + \n",
    "                coord_flip() +\n",
    "                theme(legend.position=\"none\")\n",
    "\n",
    "soldensity <- ggplot(pop_out, aes(x=xb-xd, color=Lansing, fill=Lansing, height=..scaled.., alpha = 0.1)) + \n",
    "                geom_density() + \n",
    "                geom_vline(xintercept = 0, color = \"blue\", linetype=\"dashed\")  +\n",
    "                geom_vline(xintercept = log(3)/2, color = \"red\", linetype=\"dashed\") +\n",
    "                coord_flip() +\n",
    "                xlim(-10,10) +\n",
    "                theme(legend.position=\"none\")\n",
    "\n",
    "xbxd_evol <- ggplot(pop_out  %>% sample_n(200000), aes(color=as.logical(Lansing))) + \n",
    "                geom_segment(aes(x=birth, xend=death, y=xb-xd, yend=xb-xd, alpha =0.1) , na.rm=TRUE)+\n",
    "                xlab(\"Time\") +\n",
    "                ylab(\"xb-xd\") + \n",
    "                geom_hline(yintercept=log(3)/2, color = \"red\", linetype=\"dashed\") +\n",
    "                geom_hline(yintercept = 0, color = \"blue\", linetype=\"dashed\") +\n",
    "                theme(legend.position=\"none\")\n",
    "\n",
    "p = grid.arrange(t0density, xbxd_evol, soldensity, ncol=3, nrow = 1, widths=c(2,6,2))"
   ]
  },
  {
   "cell_type": "code",
   "execution_count": 24,
   "metadata": {
    "tags": []
   },
   "outputs": [],
   "source": [
    "#calculation of Malthusian parameters (Newton's method)\n",
    "deriv_2 <- function(f, x, y, dx){\n",
    "  return((f(x+dx, y)-f(x, y))/dx)\n",
    "}\n",
    "deriv_3 <- function(f, x, y, z, dx){\n",
    "  return((f(x+dx, y, z)-f(x, y, z))/dx)\n",
    "}\n",
    "F <- function(a, b){\n",
    "  u = 0\n",
    "  if(a == 0){u = b - 1}\n",
    "  else{u = ((1/a)*(1-exp(-a*b)))-1}\n",
    "  return(u)\n",
    "}\n",
    "H <- function(a, b, d){\n",
    "  u = 0\n",
    "  if(a == 0){ u = d - exp(d-b)}\n",
    "  else{u = ((1-exp(-a*d))/a) + (exp(d)/(1+a))*(exp(-d*(1+a))-exp(-b*(1+a)))-1}\n",
    "  return(u)\n",
    "}\n",
    "G <- function(a, d){\n",
    "  u = 0\n",
    "  if(a == 0){u = d - 1}\n",
    "  else{u = ((1/a)*(1-exp(-a*d)))-1}\n",
    "  return(u)\n",
    "}\n",
    "malthus_nl <- function(b, d, x_0, epsilon, delta){\n",
    "  if(b<=d){\n",
    "    u = x_0\n",
    "    while(abs(F(u, b))>epsilon){\n",
    "      u = u - (F(u, b)/deriv_2(F, u, b, delta))\n",
    "    }\n",
    "    return(u)\n",
    "  } else {\n",
    "    v = x_0\n",
    "    while((abs(H(v,b,d))>epsilon)){\n",
    "      v = v - (H(v, b, d)/deriv_3(H, v, b, d, delta))\n",
    "    }\n",
    "    return(v)\n",
    "  }\n",
    "}\n",
    "malthus_l <- function(b, d, x_0, epsilon, delta){\n",
    "  if(b<=d){\n",
    "    u = x_0\n",
    "    while(abs(F(u, b))>epsilon){\n",
    "      u = u - (F(u, b) / deriv_2(F, u, b, delta))\n",
    "    }\n",
    "    return(u)\n",
    "  } else {\n",
    "    v = x_0\n",
    "    while(abs(G(v, d))>epsilon){\n",
    "      v = v - (G(v, d) / deriv_2(G, v, d, delta))\n",
    "    }\n",
    "    return(v)\n",
    "  }\n",
    "}\n",
    "x_0 = 0.5; epsilon = 0.00001; delta = 0.000001; u = 0"
   ]
  },
  {
   "cell_type": "code",
   "execution_count": 22,
   "metadata": {
    "scrolled": true,
    "tags": []
   },
   "outputs": [
    {
     "name": "stderr",
     "output_type": "stream",
     "text": [
      "Warning message in if (b <= d) {:\n",
      "“the condition has length > 1 and only the first element will be used”\n",
      "Warning message in while (abs(G(v, d)) > epsilon) {:\n",
      "“the condition has length > 1 and only the first element will be used”\n",
      "Warning message in if (a == 0) {:\n",
      "“the condition has length > 1 and only the first element will be used”\n",
      "Warning message in while (abs(G(v, d)) > epsilon) {:\n",
      "“the condition has length > 1 and only the first element will be used”\n",
      "Warning message in if (a == 0) {:\n",
      "“the condition has length > 1 and only the first element will be used”\n",
      "Warning message in if (a == 0) {:\n",
      "“the condition has length > 1 and only the first element will be used”\n",
      "Warning message in if (a == 0) {:\n",
      "“the condition has length > 1 and only the first element will be used”\n",
      "Warning message in if (a == 0) {:\n",
      "“the condition has length > 1 and only the first element will be used”\n",
      "Warning message in while (abs(G(v, d)) > epsilon) {:\n",
      "“the condition has length > 1 and only the first element will be used”\n",
      "Warning message in if (a == 0) {:\n",
      "“the condition has length > 1 and only the first element will be used”\n",
      "Warning message in if (a == 0) {:\n",
      "“the condition has length > 1 and only the first element will be used”\n",
      "Warning message in if (a == 0) {:\n",
      "“the condition has length > 1 and only the first element will be used”\n",
      "Warning message in if (a == 0) {:\n",
      "“the condition has length > 1 and only the first element will be used”\n",
      "Warning message in while (abs(G(v, d)) > epsilon) {:\n",
      "“the condition has length > 1 and only the first element will be used”\n",
      "Warning message in if (b <= d) {:\n",
      "“the condition has length > 1 and only the first element will be used”\n",
      "Warning message in while ((abs(H(v, b, d)) > epsilon)) {:\n",
      "“the condition has length > 1 and only the first element will be used”\n",
      "Warning message in if (a == 0) {:\n",
      "“the condition has length > 1 and only the first element will be used”\n",
      "Warning message in while ((abs(H(v, b, d)) > epsilon)) {:\n",
      "“the condition has length > 1 and only the first element will be used”\n",
      "Warning message in if (a == 0) {:\n",
      "“the condition has length > 1 and only the first element will be used”\n",
      "Warning message in if (a == 0) {:\n",
      "“the condition has length > 1 and only the first element will be used”\n",
      "Warning message in if (a == 0) {:\n",
      "“the condition has length > 1 and only the first element will be used”\n",
      "Warning message in if (a == 0) {:\n",
      "“the condition has length > 1 and only the first element will be used”\n",
      "Warning message in while ((abs(H(v, b, d)) > epsilon)) {:\n",
      "“the condition has length > 1 and only the first element will be used”\n",
      "Warning message in if (a == 0) {:\n",
      "“the condition has length > 1 and only the first element will be used”\n",
      "Warning message in if (a == 0) {:\n",
      "“the condition has length > 1 and only the first element will be used”\n",
      "Warning message in if (a == 0) {:\n",
      "“the condition has length > 1 and only the first element will be used”\n",
      "Warning message in if (a == 0) {:\n",
      "“the condition has length > 1 and only the first element will be used”\n",
      "Warning message in while ((abs(H(v, b, d)) > epsilon)) {:\n",
      "“the condition has length > 1 and only the first element will be used”\n",
      "Warning message in if (a == 0) {:\n",
      "“the condition has length > 1 and only the first element will be used”\n",
      "Warning message in if (a == 0) {:\n",
      "“the condition has length > 1 and only the first element will be used”\n",
      "Warning message in if (a == 0) {:\n",
      "“the condition has length > 1 and only the first element will be used”\n",
      "Warning message in if (a == 0) {:\n",
      "“the condition has length > 1 and only the first element will be used”\n",
      "Warning message in while ((abs(H(v, b, d)) > epsilon)) {:\n",
      "“the condition has length > 1 and only the first element will be used”\n"
     ]
    }
   ],
   "source": [
    "t=seq(0, round(max(pop_out$birth)))\n",
    "pop_out_mod <- pop_out %>% mutate(Malthus = ifelse(Lansing==TRUE,malthus_l(xb, xd, x_0, epsilon, delta),malthus_nl(xb, xd, x_0, epsilon, delta)))\n",
    "fun = function(t){\n",
    "    pop_t <- population_alive(pop_out_mod, t) \n",
    "    pop_t_L <- pop_t %>% filter(Lansing)\n",
    "    pop_t_nL <- pop_t %>% filter(!Lansing)\n",
    "    rbind(t, pop_t_L %>% count(), pop_t_L[,7] %>% median(na.rm=TRUE), pop_t_nL%>% count(), pop_t_nL[,7]  %>% median(na.rm=TRUE))\n",
    "} \n",
    "surv_table <- as.data.frame(t(matrix(unlist(cbind(lapply(t, fun))),5)))\n",
    "colnames(surv_table) <- c(\"time\", \"Lansing\", \"mean_Malthus_L\",\"nonLansing\", \"mean_Malthus_nL\")\n",
    "max_pop <- surv_table %>% filter(time > 5) %>% select(Lansing, nonLansing) %>% max()\n",
    "max_pop\n",
    "head(surv_table)"
   ]
  },
  {
   "cell_type": "code",
   "execution_count": null,
   "metadata": {},
   "outputs": [],
   "source": [
    " ggplot(surv_table) + \n",
    "  geom_line(aes(x=time, y=Lansing), color = \"#00BDD0\" )+\n",
    "  geom_line(aes(x=time, y=nonLansing), color = \"#F8766D\" ) +\n",
    "  ylim(0, max_pop)+\n",
    "  theme(axis.text=element_text(size=12),\n",
    "        axis.title=element_text(size=14,face=\"bold\"))"
   ]
  },
  {
   "cell_type": "code",
   "execution_count": null,
   "metadata": {},
   "outputs": [],
   "source": [
    " ggplot(surv_table) + \n",
    "  geom_line(aes(x=time, y=mean_Malthus_L), color = \"#00BDD0\" )+\n",
    "  geom_line(aes(x=time, y=mean_Malthus_nL), color = \"#F8766D\" ) +\n",
    "  #ylim(0, 1)+\n",
    "  theme(axis.text=element_text(size=12),\n",
    "        axis.title=element_text(size=14,face=\"bold\"))"
   ]
  },
  {
   "cell_type": "code",
   "execution_count": null,
   "metadata": {},
   "outputs": [],
   "source": []
  }
 ],
 "metadata": {
  "kernelspec": {
   "display_name": "R",
   "language": "R",
   "name": "ir"
  },
  "language_info": {
   "codemirror_mode": "r",
   "file_extension": ".r",
   "mimetype": "text/x-r-source",
   "name": "R",
   "pygments_lexer": "r",
   "version": "3.5.0"
  }
 },
 "nbformat": 4,
 "nbformat_minor": 4
}

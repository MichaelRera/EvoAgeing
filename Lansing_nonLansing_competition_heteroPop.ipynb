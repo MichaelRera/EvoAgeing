{
 "cells": [
  {
   "cell_type": "code",
   "execution_count": null,
   "metadata": {},
   "outputs": [],
   "source": [
    "library(\"IBMPopSim\")\n",
    "library(\"ggplot2\")\n",
    "library(\"Rcpp\")\n",
    "library(dplyr)\n",
    "library(gridExtra)"
   ]
  },
  {
   "cell_type": "code",
   "execution_count": null,
   "metadata": {},
   "outputs": [],
   "source": [
    "# Generate initial population\n",
    "N <- 100000  # Number of individuals in the initial population"
   ]
  },
  {
   "cell_type": "code",
   "execution_count": null,
   "metadata": {},
   "outputs": [],
   "source": [
    "# xb - xd is distributed uniformly on -10 ,10\n",
    "xd <- runif(N,0,10)\n",
    "pop_init <- data.frame(\n",
    "  \"birth\" = rep(0,N), \n",
    "  \"death\" = as.double(NA),\n",
    "  \"Lansing\" = rep(c(FALSE,TRUE),N/2),\n",
    "    \"xb\"= 10-xd, \n",
    "    \"xd\" =  xd, \n",
    "    \"lignee\"=1:N\n",
    ")\n",
    "get_characteristics(pop_init)\n"
   ]
  },
  {
   "cell_type": "code",
   "execution_count": null,
   "metadata": {},
   "outputs": [],
   "source": [
    "head(pop_init)\n",
    "#plot.ecdf(pop_init$xb-pop_init$xd)"
   ]
  },
  {
   "cell_type": "code",
   "execution_count": null,
   "metadata": {},
   "outputs": [],
   "source": [
    "# Events and model creation\n",
    " # There are 2 possible events :\n",
    "\n",
    "# - Birth (with or without mutation)\n",
    "# - Death\n",
    "\n",
    "# Each event is characterized by its intensity and  kernel code, described below.\n",
    "\n",
    "## Birth event with individual intensity\n",
    "\n",
    "### Parameters\n",
    "\n"
   ]
  },
  {
   "cell_type": "code",
   "execution_count": null,
   "metadata": {},
   "outputs": [],
   "source": [
    "params_birth <- list(\"ib\"= 1, \"p\"=0.1 , \"var_mut\"=0.05)"
   ]
  },
  {
   "cell_type": "code",
   "execution_count": null,
   "metadata": {},
   "outputs": [],
   "source": [
    "\n",
    "birth_event <- mk_event_individual( type = \"birth\",\n",
    "  intensity_code = ' if (age(I,t) < I.xb)\n",
    "                        result = ib; \n",
    "                    else \n",
    "                        result =0;',  # each individual  I can give birth at rate ib if its age is less than xb\n",
    "  kernel_code = 'if (CUnif() < p)\n",
    "                     newI.xb = max(0., CNorm(I.xb, var_mut)); \n",
    "                 else\n",
    "                     newI.xb = I.xb;\n",
    "                if (I.Lansing & (age(I,t)> I.xd) & (age(I,t)<I.xb))\n",
    "                     newI.xd =0;\n",
    "                 else{\n",
    "                    if (CUnif()<p)\n",
    "                        newI.xd =max(0., CNorm(I.xd, var_mut));\n",
    "                     else \n",
    "                        newI.xd =I.xd;}\n",
    "                 newI.Lansing =I.Lansing;\n",
    "                 newI.lignee =I.lignee;') \n",
    "# An individual I can give birth to an individual newI. The kernel code defines characteristics of individual newI\n",
    "# Attention la manière dont est calculée le trait après mutation est un peu différente du code du Tristan"
   ]
  },
  {
   "cell_type": "code",
   "execution_count": null,
   "metadata": {},
   "outputs": [],
   "source": [
    "## Death event \n",
    "### parameters\n",
    "params_death <- list(\"intens\"=1, \"compet\"= 0.0009)"
   ]
  },
  {
   "cell_type": "code",
   "execution_count": null,
   "metadata": {},
   "outputs": [],
   "source": [
    "## Deaths due to interactions\n",
    "death_event1 <- mk_event_interaction(name='death1',\n",
    "  type = \"death\",\n",
    "  interaction_code = \"result = compet;\" \n",
    ")"
   ]
  },
  {
   "cell_type": "code",
   "execution_count": null,
   "metadata": {},
   "outputs": [],
   "source": [
    "## Deaths due to aging \n",
    "death_event2 <- mk_event_individual(name='death2', type=\"death\",\n",
    "                  intensity_code = ' if (age(I,t)>I.xd) result= intens; \n",
    "                                     else result =0;')"
   ]
  },
  {
   "cell_type": "code",
   "execution_count": null,
   "metadata": {},
   "outputs": [],
   "source": [
    "# Model creation \n",
    "model <- mk_model(\n",
    "  characteristics = get_characteristics(pop_init),\n",
    "  events = list(birth_event, death_event1, death_event2),\n",
    "  parameters = c(params_birth, params_death)\n",
    "\n",
    ")\n",
    "summary(model)"
   ]
  },
  {
   "cell_type": "code",
   "execution_count": null,
   "metadata": {},
   "outputs": [],
   "source": [
    "## Bounds for birth and death rates \n",
    "\n",
    "birth_intensity_max <- params_birth$ib\n",
    "interaction_fun_max <- params_death$compet\n",
    "death2_max <- params_death$intens"
   ]
  },
  {
   "cell_type": "code",
   "execution_count": null,
   "metadata": {},
   "outputs": [],
   "source": [
    "T = 1500 # Simulation end time \n",
    "\n",
    "\n",
    "sim_out <- popsim(model = model,\n",
    "  population = pop_init,\n",
    "  events_bounds = c('birth'=birth_intensity_max, 'death1'=interaction_fun_max,'death2'= death2_max),\n",
    "  parameters = c(params_birth, params_death),\n",
    "  time = T)"
   ]
  },
  {
   "cell_type": "code",
   "execution_count": null,
   "metadata": {},
   "outputs": [],
   "source": [
    "# Simulation with different parameters\n",
    "\n",
    "#The model can be simulated with different parameters without being recompiled.\n"
   ]
  },
  {
   "cell_type": "code",
   "execution_count": null,
   "metadata": {},
   "outputs": [],
   "source": [
    "#sim_out$logs[\"duration_main_algorithm\"]\n",
    "#sim_out$logs"
   ]
  },
  {
   "cell_type": "code",
   "execution_count": null,
   "metadata": {},
   "outputs": [],
   "source": [
    "# Outputs"
   ]
  },
  {
   "cell_type": "code",
   "execution_count": null,
   "metadata": {},
   "outputs": [],
   "source": [
    "str(sim_out$population)"
   ]
  },
  {
   "cell_type": "code",
   "execution_count": null,
   "metadata": {},
   "outputs": [],
   "source": [
    "pop_out <- sim_out$population\n",
    "head(pop_out)"
   ]
  },
  {
   "cell_type": "code",
   "execution_count": null,
   "metadata": {},
   "outputs": [],
   "source": [
    "options(repr.plot.width=15, repr.plot.height=15)\n",
    "xbxd_evol_for_publi <- ggplot(pop_out %>% sample_n(300000), aes(color=as.logical(Lansing), alpha = 0.1)) + \n",
    "  geom_segment(aes(x=birth, xend=death, y=xb-xd, yend=xb-xd, alpha =0.1) , na.rm=TRUE)+\n",
    "  xlab(\"Time\") +\n",
    "  ylab(\"xb-xd\") + \n",
    "  geom_hline(yintercept=log(3)/2, color = \"red\", linetype=\"dashed\") +\n",
    "  geom_hline(yintercept = 0, color = \"blue\", linetype=\"dashed\") +\n",
    "  #theme(legend.position=\"none\")+\n",
    "  theme(axis.text=element_text(size=12),\n",
    "        axis.title=element_text(size=14,face=\"bold\"))\n",
    "\n",
    "xbxd_evol_for_publi"
   ]
  },
  {
   "cell_type": "code",
   "execution_count": null,
   "metadata": {
    "tags": []
   },
   "outputs": [],
   "source": [
    "t0density <-  ggplot(pop_out %>% filter(birth==0), aes(x=xb-xd, color=Lansing, fill=Lansing, height=..scaled.., alpha = 0.1)) + \n",
    "                geom_density() + \n",
    "                geom_vline(xintercept = 0, color = \"blue\", linetype=\"dashed\")  +\n",
    "                geom_vline(xintercept = log(3)/2, color = \"red\", linetype=\"dashed\") +\n",
    "                ylim(0,0.15) + \n",
    "                coord_flip() +\n",
    "                theme(legend.position=\"none\")\n",
    "\n",
    "soldensity <- ggplot(pop_out, aes(x=xb-xd, color=Lansing, fill=Lansing, height=..scaled.., alpha = 0.1)) + \n",
    "                geom_density() + \n",
    "                geom_vline(xintercept = 0, color = \"blue\", linetype=\"dashed\")  +\n",
    "                geom_vline(xintercept = log(3)/2, color = \"red\", linetype=\"dashed\") +\n",
    "                coord_flip() +\n",
    "                xlim(-10,10) +\n",
    "                theme(legend.position=\"none\")\n",
    "\n",
    "xbxd_evol <- ggplot(pop_out  %>% sample_n(200000), aes(color=as.logical(Lansing))) + \n",
    "                geom_segment(aes(x=birth, xend=death, y=xb-xd, yend=xb-xd, alpha =0.1) , na.rm=TRUE)+\n",
    "                xlab(\"Time\") +\n",
    "                ylab(\"xb-xd\") + \n",
    "                geom_hline(yintercept=log(3)/2, color = \"red\", linetype=\"dashed\") +\n",
    "                geom_hline(yintercept = 0, color = \"blue\", linetype=\"dashed\") +\n",
    "                theme(legend.position=\"none\")\n",
    "\n",
    "p = grid.arrange(t0density, xbxd_evol, soldensity, ncol=3, nrow = 1, widths=c(2,6,2))"
   ]
  },
  {
   "cell_type": "code",
   "execution_count": null,
   "metadata": {
    "jupyter": {
     "source_hidden": true
    },
    "tags": []
   },
   "outputs": [],
   "source": [
    "#calculation of Malthusian parameters (Newton's method)\n",
    "deriv_2 <- function(f, x, y, dx){\n",
    "  return((f(x+dx, y)-f(x, y))/dx)\n",
    "}\n",
    "deriv_3 <- function(f, x, y, z, dx){\n",
    "  return((f(x+dx, y, z)-f(x, y, z))/dx)\n",
    "}\n",
    "F <- function(a, b){\n",
    "  u = 0\n",
    "  if(a == 0){u = b - 1}\n",
    "  else{u = ((1/a)*(1-exp(-a*b)))-1}\n",
    "  return(u)\n",
    "}\n",
    "H <- function(a, b, d){\n",
    "  u = 0\n",
    "  if(a == 0){ u = d - exp(d-b)}\n",
    "  else{u = ((1-exp(-a*d))/a) + (exp(d)/(1+a))*(exp(-d*(1+a))-exp(-b*(1+a)))-1}\n",
    "  return(u)\n",
    "}\n",
    "G <- function(a, d){\n",
    "  u = 0\n",
    "  if(a == 0){u = d - 1}\n",
    "  else{u = ((1/a)*(1-exp(-a*d)))-1}\n",
    "  return(u)\n",
    "}\n",
    "malthus_nl <- function(b, d, x_0, epsilon, delta){\n",
    "  if(b<=d){\n",
    "    u = x_0\n",
    "    while(abs(F(u, b))>epsilon){\n",
    "      u = u - (F(u, b)/deriv_2(F, u, b, delta))\n",
    "    }\n",
    "    return(u)\n",
    "  } else {\n",
    "    v = x_0\n",
    "    while((abs(H(v,b,d))>epsilon)){\n",
    "      v = v - (H(v, b, d)/deriv_3(H, v, b, d, delta))\n",
    "    }\n",
    "    return(v)\n",
    "  }\n",
    "}\n",
    "malthus_l <- function(b, d, x_0, epsilon, delta){\n",
    "  if(b<=d){\n",
    "    u = x_0\n",
    "    while(abs(F(u, b))>epsilon){\n",
    "      u = u - (F(u, b) / deriv_2(F, u, b, delta))\n",
    "    }\n",
    "    return(u)\n",
    "  } else {\n",
    "    v = x_0\n",
    "    while(abs(G(v, d))>epsilon){\n",
    "      v = v - (G(v, d) / deriv_2(G, v, d, delta))\n",
    "    }\n",
    "    return(v)\n",
    "  }\n",
    "}\n",
    "x_0 = 0.5; epsilon = 0.00001; delta = 0.000001; u = 0"
   ]
  },
  {
   "cell_type": "code",
   "execution_count": null,
   "metadata": {
    "scrolled": true,
    "tags": []
   },
   "outputs": [],
   "source": [
    "t=seq(0, round(max(pop_out$birth)))\n",
    "pop_out_mod <- pop_out %>% mutate(Malthus = ifelse(Lansing==TRUE,malthus_l(xb, xd, x_0, epsilon, delta),malthus_nl(xb, xd, x_0, epsilon, delta)))\n",
    "fun = function(t){\n",
    "    pop_t <- population_alive(pop_out_mod, t) \n",
    "    pop_t_L <- pop_t %>% filter(Lansing)\n",
    "    pop_t_nL <- pop_t %>% filter(!Lansing)\n",
    "    rbind(t, pop_t_L %>% count(), pop_t_L[,7] %>% median(na.rm=TRUE), pop_t_nL%>% count(), pop_t_nL[,7]  %>% median(na.rm=TRUE))\n",
    "} \n",
    "surv_table <- as.data.frame(t(matrix(unlist(cbind(lapply(t, fun))),5)))\n",
    "colnames(surv_table) <- c(\"time\", \"Lansing\", \"mean_Malthus_L\",\"nonLansing\", \"mean_Malthus_nL\")\n",
    "max_pop <- surv_table %>% filter(time > 5) %>% select(Lansing, nonLansing) %>% max()\n",
    "max_pop\n",
    "head(surv_table)"
   ]
  },
  {
   "cell_type": "code",
   "execution_count": null,
   "metadata": {},
   "outputs": [],
   "source": [
    " ggplot(surv_table) + \n",
    "  geom_line(aes(x=time, y=Lansing), color = \"#00BDD0\" )+\n",
    "  geom_line(aes(x=time, y=nonLansing), color = \"#F8766D\" ) +\n",
    "  ylim(0, max_pop)+\n",
    "  theme(axis.text=element_text(size=12),\n",
    "        axis.title=element_text(size=14,face=\"bold\"))"
   ]
  },
  {
   "cell_type": "code",
   "execution_count": null,
   "metadata": {},
   "outputs": [],
   "source": [
    " ggplot(surv_table) + \n",
    "  geom_line(aes(x=time, y=mean_Malthus_L), color = \"#00BDD0\" )+\n",
    "  geom_line(aes(x=time, y=mean_Malthus_nL), color = \"#F8766D\" ) +\n",
    "  #ylim(0, 1)+\n",
    "  theme(axis.text=element_text(size=12),\n",
    "        axis.title=element_text(size=14,face=\"bold\"))"
   ]
  }
 ],
 "metadata": {
  "kernelspec": {
   "display_name": "R",
   "language": "R",
   "name": "ir"
  },
  "language_info": {
   "codemirror_mode": "r",
   "file_extension": ".r",
   "mimetype": "text/x-r-source",
   "name": "R",
   "pygments_lexer": "r",
   "version": "3.6.3"
  }
 },
 "nbformat": 4,
 "nbformat_minor": 4
}

{
 "cells": [
  {
   "cell_type": "code",
   "execution_count": 1,
   "metadata": {},
   "outputs": [
    {
     "name": "stderr",
     "output_type": "stream",
     "text": [
      "Registered S3 methods overwritten by 'tibble':\n",
      "  method     from  \n",
      "  format.tbl pillar\n",
      "  print.tbl  pillar\n",
      "\n",
      "Registered S3 methods overwritten by 'ggplot2':\n",
      "  method         from \n",
      "  [.quosures     rlang\n",
      "  c.quosures     rlang\n",
      "  print.quosures rlang\n",
      "\n",
      "\n",
      "Attaching package: ‘IBMPopSim’\n",
      "\n",
      "\n",
      "The following object is masked from ‘package:stats’:\n",
      "\n",
      "    stepfun\n",
      "\n",
      "\n"
     ]
    }
   ],
   "source": [
    "library(\"IBMPopSim\")\n",
    "library(\"ggplot2\")\n",
    "library(\"Rcpp\")"
   ]
  },
  {
   "cell_type": "code",
   "execution_count": 2,
   "metadata": {},
   "outputs": [],
   "source": [
    "# Generate initial population\n",
    "N <- 1000  # Number of individuals in the initial population"
   ]
  },
  {
   "cell_type": "code",
   "execution_count": 3,
   "metadata": {},
   "outputs": [
    {
     "data": {
      "text/html": [
       "<style>\n",
       ".dl-inline {width: auto; margin:0; padding: 0}\n",
       ".dl-inline>dt, .dl-inline>dd {float: none; width: auto; display: inline-block}\n",
       ".dl-inline>dt::after {content: \":\\0020\"; padding-right: .5ex}\n",
       ".dl-inline>dt:not(:first-of-type) {padding-left: .5ex}\n",
       "</style><dl class=dl-inline><dt>lancing</dt><dd>'bool'</dd><dt>xb</dt><dd>'double'</dd><dt>xd</dt><dd>'double'</dd><dt>lignee</dt><dd>'int'</dd></dl>\n"
      ],
      "text/latex": [
       "\\begin{description*}\n",
       "\\item[lancing] 'bool'\n",
       "\\item[xb] 'double'\n",
       "\\item[xd] 'double'\n",
       "\\item[lignee] 'int'\n",
       "\\end{description*}\n"
      ],
      "text/markdown": [
       "lancing\n",
       ":   'bool'xb\n",
       ":   'double'xd\n",
       ":   'double'lignee\n",
       ":   'int'\n",
       "\n"
      ],
      "text/plain": [
       " lancing       xb       xd   lignee \n",
       "  \"bool\" \"double\" \"double\"    \"int\" "
      ]
     },
     "metadata": {},
     "output_type": "display_data"
    }
   ],
   "source": [
    "# xb - xd is distributed uniformly on -10 ,10\n",
    "xd <- runif(N,0,10)\n",
    "pop_init <- data.frame(\n",
    "  \"birth\" = rep(0,N), \n",
    "  \"death\" = as.double(NA),\n",
    "  \"lancing\" = rep(c(FALSE,TRUE),N/2),\n",
    "    \"xb\"= 10-xd, \n",
    "    \"xd\" =  xd, \n",
    "    \"lignee\"=1:N\n",
    ")\n",
    "get_characteristics(pop_init)\n"
   ]
  },
  {
   "cell_type": "code",
   "execution_count": 4,
   "metadata": {},
   "outputs": [
    {
     "data": {
      "text/html": [
       "<table class=\"dataframe\">\n",
       "<caption>A data.frame: 6 × 6</caption>\n",
       "<thead>\n",
       "\t<tr><th></th><th scope=col>birth</th><th scope=col>death</th><th scope=col>lancing</th><th scope=col>xb</th><th scope=col>xd</th><th scope=col>lignee</th></tr>\n",
       "\t<tr><th></th><th scope=col>&lt;dbl&gt;</th><th scope=col>&lt;dbl&gt;</th><th scope=col>&lt;lgl&gt;</th><th scope=col>&lt;dbl&gt;</th><th scope=col>&lt;dbl&gt;</th><th scope=col>&lt;int&gt;</th></tr>\n",
       "</thead>\n",
       "<tbody>\n",
       "\t<tr><th scope=row>1</th><td>0</td><td>NA</td><td>FALSE</td><td>9.227705</td><td>0.7722946</td><td>1</td></tr>\n",
       "\t<tr><th scope=row>2</th><td>0</td><td>NA</td><td> TRUE</td><td>3.996699</td><td>6.0033010</td><td>2</td></tr>\n",
       "\t<tr><th scope=row>3</th><td>0</td><td>NA</td><td>FALSE</td><td>1.773521</td><td>8.2264786</td><td>3</td></tr>\n",
       "\t<tr><th scope=row>4</th><td>0</td><td>NA</td><td> TRUE</td><td>8.641576</td><td>1.3584240</td><td>4</td></tr>\n",
       "\t<tr><th scope=row>5</th><td>0</td><td>NA</td><td>FALSE</td><td>4.079241</td><td>5.9207590</td><td>5</td></tr>\n",
       "\t<tr><th scope=row>6</th><td>0</td><td>NA</td><td> TRUE</td><td>8.275549</td><td>1.7244514</td><td>6</td></tr>\n",
       "</tbody>\n",
       "</table>\n"
      ],
      "text/latex": [
       "A data.frame: 6 × 6\n",
       "\\begin{tabular}{r|llllll}\n",
       "  & birth & death & lancing & xb & xd & lignee\\\\\n",
       "  & <dbl> & <dbl> & <lgl> & <dbl> & <dbl> & <int>\\\\\n",
       "\\hline\n",
       "\t1 & 0 & NA & FALSE & 9.227705 & 0.7722946 & 1\\\\\n",
       "\t2 & 0 & NA &  TRUE & 3.996699 & 6.0033010 & 2\\\\\n",
       "\t3 & 0 & NA & FALSE & 1.773521 & 8.2264786 & 3\\\\\n",
       "\t4 & 0 & NA &  TRUE & 8.641576 & 1.3584240 & 4\\\\\n",
       "\t5 & 0 & NA & FALSE & 4.079241 & 5.9207590 & 5\\\\\n",
       "\t6 & 0 & NA &  TRUE & 8.275549 & 1.7244514 & 6\\\\\n",
       "\\end{tabular}\n"
      ],
      "text/markdown": [
       "\n",
       "A data.frame: 6 × 6\n",
       "\n",
       "| <!--/--> | birth &lt;dbl&gt; | death &lt;dbl&gt; | lancing &lt;lgl&gt; | xb &lt;dbl&gt; | xd &lt;dbl&gt; | lignee &lt;int&gt; |\n",
       "|---|---|---|---|---|---|---|\n",
       "| 1 | 0 | NA | FALSE | 9.227705 | 0.7722946 | 1 |\n",
       "| 2 | 0 | NA |  TRUE | 3.996699 | 6.0033010 | 2 |\n",
       "| 3 | 0 | NA | FALSE | 1.773521 | 8.2264786 | 3 |\n",
       "| 4 | 0 | NA |  TRUE | 8.641576 | 1.3584240 | 4 |\n",
       "| 5 | 0 | NA | FALSE | 4.079241 | 5.9207590 | 5 |\n",
       "| 6 | 0 | NA |  TRUE | 8.275549 | 1.7244514 | 6 |\n",
       "\n"
      ],
      "text/plain": [
       "  birth death lancing xb       xd        lignee\n",
       "1 0     NA    FALSE   9.227705 0.7722946 1     \n",
       "2 0     NA     TRUE   3.996699 6.0033010 2     \n",
       "3 0     NA    FALSE   1.773521 8.2264786 3     \n",
       "4 0     NA     TRUE   8.641576 1.3584240 4     \n",
       "5 0     NA    FALSE   4.079241 5.9207590 5     \n",
       "6 0     NA     TRUE   8.275549 1.7244514 6     "
      ]
     },
     "metadata": {},
     "output_type": "display_data"
    }
   ],
   "source": [
    "head(pop_init)\n",
    "#plot.ecdf(pop_init$xb-pop_init$xd)"
   ]
  },
  {
   "cell_type": "code",
   "execution_count": 16,
   "metadata": {},
   "outputs": [],
   "source": [
    "# Events and model creation\n",
    " # There are 2 possible events :\n",
    "\n",
    "# - Birth (with or without mutation)\n",
    "# - Death\n",
    "\n",
    "# Each event is characterized by its intensity and  kernel code, described below.\n",
    "\n",
    "## Birth event with individual intensity\n",
    "\n",
    "### Parameters\n",
    "\n"
   ]
  },
  {
   "cell_type": "code",
   "execution_count": 6,
   "metadata": {},
   "outputs": [],
   "source": [
    "params_birth <- list(\"ib\"= 1, \"p\"=0.1 , \"var_mut\"=0.05)"
   ]
  },
  {
   "cell_type": "code",
   "execution_count": 7,
   "metadata": {},
   "outputs": [],
   "source": [
    "\n",
    "birth_event <- mk_event_individual( type = \"birth\",\n",
    "  intensity_code = ' if (age(I,t) < I.xb)\n",
    "                        result = ib; \n",
    "                    else \n",
    "                        result =0;',  # each individual  I can give birth at rate ib if its age is less than xb\n",
    "  kernel_code = 'if (CUnif() < p)\n",
    "                     newI.xb = max(0., CNorm(I.xb, var_mut)); \n",
    "                 else\n",
    "                     newI.xb = I.xb;\n",
    "                if (I.lancing & (age(I,t)> I.xd) & (age(I,t)<I.xb))\n",
    "                     newI.xd =0;\n",
    "                 else{\n",
    "                    if (CUnif()<p)\n",
    "                        newI.xd =max(0., CNorm(I.xd, var_mut));\n",
    "                     else \n",
    "                        newI.xd =I.xd;}\n",
    "                 newI.lancing =I.lancing;\n",
    "                 newI.lignee =I.lignee;') \n",
    "# An individual I can give birth to an individual newI. The kernel code defines characteristics of individual newI\n",
    "# Attention la manière dont est calculée le trait après mutation est un peu différente du code du Tristan"
   ]
  },
  {
   "cell_type": "code",
   "execution_count": 8,
   "metadata": {},
   "outputs": [],
   "source": [
    "## Death event \n",
    "### parameters\n",
    "params_death <- list(\"intens\"=1, \"compet\"= 0.0009)"
   ]
  },
  {
   "cell_type": "code",
   "execution_count": 9,
   "metadata": {},
   "outputs": [],
   "source": [
    "## Deaths due to interactions\n",
    "death_event1 <- mk_event_interaction(name='death1',\n",
    "  type = \"death\",\n",
    "  interaction_code = \"result = compet;\" \n",
    ")"
   ]
  },
  {
   "cell_type": "code",
   "execution_count": 10,
   "metadata": {},
   "outputs": [],
   "source": [
    "## Deaths due to aging \n",
    "death_event2 <- mk_event_individual(name='death2', type=\"death\",\n",
    "                  intensity_code = ' if (age(I,t)>I.xd) result= intens; \n",
    "                                     else result =0;')"
   ]
  },
  {
   "cell_type": "code",
   "execution_count": 11,
   "metadata": {},
   "outputs": [
    {
     "name": "stdout",
     "output_type": "stream",
     "text": [
      "x86_64-conda_cos6-linux-gnu-c++ -std=gnu++11 -I\"/opt/conda/lib/R/include\" -DNDEBUG -I../inst/include -fopenmp  -I\"/opt/conda/lib/R/library/Rcpp/include\" -I\"/home/criparis/R/x86_64-conda_cos6-linux-gnu-library/3.6/IBMPopSim/include\" -I\"/opt/conda/lib/R/library/RcppArmadillo/include\" -I\"/tmp/RtmpOJ57U7/sourceCpp-x86_64-conda_cos6-linux-gnu-1.0.1\" -DNDEBUG -D_FORTIFY_SOURCE=2 -O2 -isystem /opt/conda/include -I/opt/conda/include -Wl,-rpath-link,/opt/conda/lib  -fpic  -fvisibility-inlines-hidden  -fmessage-length=0 -march=nocona -mtune=haswell -ftree-vectorize -fPIC -fstack-protector-strong -fno-plt -O2 -ffunction-sections -pipe -isystem /opt/conda/include -fdebug-prefix-map=/tmp/build/80754af9/r-base_1589917437985/work=/usr/local/src/conda/r-base-3.6.1 -fdebug-prefix-map=/opt/conda=/usr/local/src/conda-prefix  -c file326d14cdd4ee0.cpp -o file326d14cdd4ee0.o\n"
     ]
    },
    {
     "ename": "ERROR",
     "evalue": "Error in sourceCpp(code = model$cpp_code): Error 1 occurred building shared library.\n",
     "output_type": "error",
     "traceback": [
      "Error in sourceCpp(code = model$cpp_code): Error 1 occurred building shared library.\nTraceback:\n",
      "1. mk_model(characteristics = get_characteristics(pop_init), events = list(birth_event, \n .     death_event1, death_event2), parameters = c(params_birth, \n .     params_death))",
      "2. sourceCpp(code = model$cpp_code)",
      "3. stop(\"Error \", status, \" occurred building shared library.\")"
     ]
    },
    {
     "name": "stderr",
     "output_type": "stream",
     "text": [
      "\n",
      "WARNING: The tools required to build C++ code for R were not found.\n",
      "\n",
      "Please install GNU development tools including a C++ compiler.\n",
      "\n",
      "\n"
     ]
    }
   ],
   "source": [
    "# Model creation \n",
    "model <- mk_model(\n",
    "  characteristics = get_characteristics(pop_init),\n",
    "  events = list(birth_event, death_event1, death_event2),\n",
    "  parameters = c(params_birth, params_death)\n",
    "\n",
    ")\n",
    "summary(model)"
   ]
  },
  {
   "cell_type": "code",
   "execution_count": 12,
   "metadata": {},
   "outputs": [],
   "source": [
    "## Bounds for birth and death rates \n",
    "\n",
    "birth_intensity_max <- params_birth$ib\n",
    "interaction_fun_max <- params_death$compet\n",
    "death2_max <- params_death$intens"
   ]
  },
  {
   "cell_type": "code",
   "execution_count": 13,
   "metadata": {},
   "outputs": [
    {
     "name": "stdout",
     "output_type": "stream",
     "text": [
      "Simulation on  [0, 150] "
     ]
    }
   ],
   "source": [
    "T = 150 # Simulation end time \n",
    "\n",
    "\n",
    "sim_out <- popsim(model = model,\n",
    "  population = pop_init,\n",
    "  events_bounds = c('birth'=birth_intensity_max, 'death1'=interaction_fun_max,'death2'= death2_max),\n",
    "  parameters = c(params_birth, params_death),\n",
    "  time = T)"
   ]
  },
  {
   "cell_type": "code",
   "execution_count": 14,
   "metadata": {},
   "outputs": [],
   "source": [
    "# Simulation with different parameters\n",
    "\n",
    "#The model can be simulated with different parameters without being recompiled.\n"
   ]
  },
  {
   "cell_type": "code",
   "execution_count": 15,
   "metadata": {},
   "outputs": [],
   "source": [
    "#sim_out$logs[\"duration_main_algorithm\"]\n",
    "#sim_out$logs"
   ]
  },
  {
   "cell_type": "code",
   "execution_count": 16,
   "metadata": {},
   "outputs": [],
   "source": [
    "# Outputs"
   ]
  },
  {
   "cell_type": "code",
   "execution_count": 17,
   "metadata": {},
   "outputs": [
    {
     "name": "stdout",
     "output_type": "stream",
     "text": [
      "'data.frame':\t164054 obs. of  6 variables:\n",
      " $ birth  : num  143 144 144 145 145 ...\n",
      " $ death  : num  NA NA NA NA NA NA NA NA NA NA ...\n",
      " $ lancing: logi  TRUE FALSE TRUE TRUE FALSE FALSE ...\n",
      " $ xb     : num  4.66 6.06 5.64 4.65 5.89 ...\n",
      " $ xd     : num  5.61 4.52 4.63 5.43 4.1 ...\n",
      " $ lignee : int  638 969 46 638 425 425 425 425 425 642 ...\n"
     ]
    }
   ],
   "source": [
    "str(sim_out$population)"
   ]
  },
  {
   "cell_type": "code",
   "execution_count": 20,
   "metadata": {},
   "outputs": [
    {
     "data": {
      "text/html": [
       "<table>\n",
       "<caption>A data.frame: 6 × 6</caption>\n",
       "<thead>\n",
       "\t<tr><th></th><th scope=col>birth</th><th scope=col>death</th><th scope=col>lancing</th><th scope=col>xb</th><th scope=col>xd</th><th scope=col>lignee</th></tr>\n",
       "\t<tr><th></th><th scope=col>&lt;dbl&gt;</th><th scope=col>&lt;dbl&gt;</th><th scope=col>&lt;lgl&gt;</th><th scope=col>&lt;dbl&gt;</th><th scope=col>&lt;dbl&gt;</th><th scope=col>&lt;int&gt;</th></tr>\n",
       "</thead>\n",
       "<tbody>\n",
       "\t<tr><th scope=row>1</th><td>143.3926</td><td>NA</td><td> TRUE</td><td>4.658894</td><td>5.605821</td><td>638</td></tr>\n",
       "\t<tr><th scope=row>2</th><td>143.7459</td><td>NA</td><td>FALSE</td><td>6.060446</td><td>4.522422</td><td>969</td></tr>\n",
       "\t<tr><th scope=row>3</th><td>143.8933</td><td>NA</td><td> TRUE</td><td>5.644276</td><td>4.630242</td><td> 46</td></tr>\n",
       "\t<tr><th scope=row>4</th><td>144.9153</td><td>NA</td><td> TRUE</td><td>4.654941</td><td>5.425354</td><td>638</td></tr>\n",
       "\t<tr><th scope=row>5</th><td>144.9893</td><td>NA</td><td>FALSE</td><td>5.886931</td><td>4.100464</td><td>425</td></tr>\n",
       "\t<tr><th scope=row>6</th><td>145.1161</td><td>NA</td><td>FALSE</td><td>5.977769</td><td>3.791014</td><td>425</td></tr>\n",
       "</tbody>\n",
       "</table>\n"
      ],
      "text/latex": [
       "A data.frame: 6 × 6\n",
       "\\begin{tabular}{r|llllll}\n",
       "  & birth & death & lancing & xb & xd & lignee\\\\\n",
       "  & <dbl> & <dbl> & <lgl> & <dbl> & <dbl> & <int>\\\\\n",
       "\\hline\n",
       "\t1 & 143.3926 & NA &  TRUE & 4.658894 & 5.605821 & 638\\\\\n",
       "\t2 & 143.7459 & NA & FALSE & 6.060446 & 4.522422 & 969\\\\\n",
       "\t3 & 143.8933 & NA &  TRUE & 5.644276 & 4.630242 &  46\\\\\n",
       "\t4 & 144.9153 & NA &  TRUE & 4.654941 & 5.425354 & 638\\\\\n",
       "\t5 & 144.9893 & NA & FALSE & 5.886931 & 4.100464 & 425\\\\\n",
       "\t6 & 145.1161 & NA & FALSE & 5.977769 & 3.791014 & 425\\\\\n",
       "\\end{tabular}\n"
      ],
      "text/markdown": [
       "\n",
       "A data.frame: 6 × 6\n",
       "\n",
       "| <!--/--> | birth &lt;dbl&gt; | death &lt;dbl&gt; | lancing &lt;lgl&gt; | xb &lt;dbl&gt; | xd &lt;dbl&gt; | lignee &lt;int&gt; |\n",
       "|---|---|---|---|---|---|---|\n",
       "| 1 | 143.3926 | NA |  TRUE | 4.658894 | 5.605821 | 638 |\n",
       "| 2 | 143.7459 | NA | FALSE | 6.060446 | 4.522422 | 969 |\n",
       "| 3 | 143.8933 | NA |  TRUE | 5.644276 | 4.630242 |  46 |\n",
       "| 4 | 144.9153 | NA |  TRUE | 4.654941 | 5.425354 | 638 |\n",
       "| 5 | 144.9893 | NA | FALSE | 5.886931 | 4.100464 | 425 |\n",
       "| 6 | 145.1161 | NA | FALSE | 5.977769 | 3.791014 | 425 |\n",
       "\n"
      ],
      "text/plain": [
       "  birth    death lancing xb       xd       lignee\n",
       "1 143.3926 NA     TRUE   4.658894 5.605821 638   \n",
       "2 143.7459 NA    FALSE   6.060446 4.522422 969   \n",
       "3 143.8933 NA     TRUE   5.644276 4.630242  46   \n",
       "4 144.9153 NA     TRUE   4.654941 5.425354 638   \n",
       "5 144.9893 NA    FALSE   5.886931 4.100464 425   \n",
       "6 145.1161 NA    FALSE   5.977769 3.791014 425   "
      ]
     },
     "metadata": {},
     "output_type": "display_data"
    }
   ],
   "source": [
    "pop_out <- sim_out$population\n",
    "head(pop_out)"
   ]
  },
  {
   "cell_type": "code",
   "execution_count": null,
   "metadata": {},
   "outputs": [],
   "source": [
    "pop_size <- nrow(population_alive(pop_out,t = 150))\n",
    "\n",
    "xbxd_evol_for_publi <- ggplot(pop_out, aes(color=as.logical(Lansing), alpha = 0.1)) + \n",
    "  geom_segment(aes(x=birth, xend=death, y=xb-xd, yend=xb-xd, alpha =0.1) , na.rm=TRUE)+\n",
    "  xlab(\"Time\") +\n",
    "  ylab(\"xb-xd\") + \n",
    "  geom_hline(yintercept=log(3)/2, color = \"red\", linetype=\"dashed\") +\n",
    "  geom_hline(yintercept = 0, color = \"blue\", linetype=\"dashed\") +\n",
    "  theme(legend.position=\"none\")\n",
    "\n",
    "xbxd_evol_for_publi"
   ]
  }
 ],
 "metadata": {
  "kernelspec": {
   "display_name": "R",
   "language": "R",
   "name": "ir"
  },
  "language_info": {
   "codemirror_mode": "r",
   "file_extension": ".r",
   "mimetype": "text/x-r-source",
   "name": "R",
   "pygments_lexer": "r",
   "version": "3.6.1"
  }
 },
 "nbformat": 4,
 "nbformat_minor": 4
}
